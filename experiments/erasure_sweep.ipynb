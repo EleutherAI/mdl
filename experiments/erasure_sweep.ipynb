{
 "cells": [
  {
   "cell_type": "code",
   "execution_count": 1,
   "metadata": {},
   "outputs": [
    {
     "name": "stderr",
     "output_type": "stream",
     "text": [
      "/mnt/ssd-1/alexm/miniconda3/envs/ql/lib/python3.11/site-packages/tqdm/auto.py:21: TqdmWarning: IProgress not found. Please update jupyter and ipywidgets. See https://ipywidgets.readthedocs.io/en/stable/user_install.html\n",
      "  from .autonotebook import tqdm as notebook_tqdm\n"
     ]
    }
   ],
   "source": [
    "from mdl import Sweep, MlpProbe, QuadraticProbe\n",
    "from concept_erasure import QuadraticFitter, OracleFitter\n",
    "from datasets import load_dataset\n",
    "import torch\n",
    "from typing import Literal\n",
    "# autoreload\n",
    "%load_ext autoreload\n",
    "%autoreload 2"
   ]
  },
  {
   "cell_type": "code",
   "execution_count": 2,
   "metadata": {},
   "outputs": [],
   "source": [
    "random_seed = None  # None means not random\n",
    "ds_name = \"atmallen/amazon_polarity_embeddings\" + (f\"_random{random_seed}\" if random_seed else \"\")\n",
    "ds_dict = load_dataset(ds_name)\n",
    "ds_dict = ds_dict.with_format(\"torch\", columns=[\"embedding\", \"label\"])"
   ]
  },
  {
   "cell_type": "code",
   "execution_count": 24,
   "metadata": {},
   "outputs": [],
   "source": [
    "device = \"cuda\"\n",
    "n_train = 2**14\n",
    "erasure: Literal[\"Linear\", \"Q-LEACE\", \"none\"] = \"Q-LEACE\"\n",
    "seed = 0"
   ]
  },
  {
   "cell_type": "code",
   "execution_count": 25,
   "metadata": {},
   "outputs": [],
   "source": [
    "num_classes = ds_dict[\"train\"].features[\"label\"].num_classes\n",
    "X_train = ds_dict[\"train\"][\"embedding\"][:n_train]\n",
    "X_train = X_train / X_train.norm(dim=-1, keepdim=True)\n",
    "Y_train = ds_dict[\"train\"][\"label\"][:n_train]"
   ]
  },
  {
   "cell_type": "code",
   "execution_count": null,
   "metadata": {},
   "outputs": [],
   "source": [
    "fitter = QuadraticFitter.fit(X_train, Y_train)\n",
    "eraser = fitter.eraser\n",
    "X_train = eraser(X_train, Y_train)"
   ]
  },
  {
   "cell_type": "code",
   "execution_count": 26,
   "metadata": {},
   "outputs": [
    {
     "name": "stderr",
     "output_type": "stream",
     "text": [
      " 25%|██▌       | 1/4 [00:00<00:00,  8.04scales/s, loss=1.0000]"
     ]
    },
    {
     "name": "stderr",
     "output_type": "stream",
     "text": [
      "100%|██████████| 4/4 [02:26<00:00, 36.64s/scales, loss=0.4694]\n"
     ]
    }
   ],
   "source": [
    "\n",
    "sweep = Sweep(\n",
    "    num_features=X_train.shape[1],\n",
    "    num_classes=num_classes,\n",
    "    num_chunks=5,  # TODO: change to 10\n",
    "    # probe_cls=QuadraticProbe,\n",
    "    probe_cls=MlpProbe,\n",
    "    val_frac=0.2,\n",
    "    device=device,\n",
    "    probe_kwargs=dict(\n",
    "        num_layers=2,\n",
    "    )\n",
    ")\n",
    "result = sweep.run(X_train.to(device), Y_train.to(device).to(float), seed=seed)"
   ]
  },
  {
   "cell_type": "code",
   "execution_count": 27,
   "metadata": {},
   "outputs": [
    {
     "data": {
      "text/plain": [
       "MdlResult(mdl=1.9073904481607726, ce_curve=[1.0000008462251695, 0.5488809365661911, 0.5157688135785602, 0.4694291334366037], sample_sizes=[768, 2069, 4273, 8008, 14336], total_trials=0)"
      ]
     },
     "execution_count": 27,
     "metadata": {},
     "output_type": "execute_result"
    }
   ],
   "source": [
    "result"
   ]
  },
  {
   "cell_type": "code",
   "execution_count": 20,
   "metadata": {},
   "outputs": [
    {
     "data": {
      "text/plain": [
       "MdlResult(mdl=1.733752111798162, ce_curve=[0.5765370022805786, 0.5018573319388311, 0.4810841569008844, 0.441685225059591, 0.4772105041717546, 0.4166916619506471, 0.4115986014027328, 0.40568870439379623, 0.40814509824604545], sample_sizes=[768, 1984, 3909, 6957, 11783, 19424, 31523, 50678, 81006, 129024], total_trials=0)"
      ]
     },
     "execution_count": 20,
     "metadata": {},
     "output_type": "execute_result"
    }
   ],
   "source": [
    "result_no_erase"
   ]
  },
  {
   "cell_type": "code",
   "execution_count": 11,
   "metadata": {},
   "outputs": [
    {
     "data": {
      "text/plain": [
       "torch.Size([16384, 384])"
      ]
     },
     "execution_count": 11,
     "metadata": {},
     "output_type": "execute_result"
    }
   ],
   "source": [
    "X_train.shape"
   ]
  },
  {
   "cell_type": "code",
   "execution_count": 17,
   "metadata": {},
   "outputs": [
    {
     "name": "stderr",
     "output_type": "stream",
     "text": [
      "Epoch:   0%|          | 0/100 [00:00<?, ?it/s, loss=488]"
     ]
    },
    {
     "name": "stderr",
     "output_type": "stream",
     "text": [
      "Epoch: 100%|██████████| 100/100 [00:15<00:00,  6.36it/s, loss=460]\n"
     ]
    }
   ],
   "source": [
    "probe = MlpProbe(\n",
    "    num_features=X_train.shape[1],\n",
    "    num_classes=num_classes,\n",
    "    device=device,\n",
    "    dtype=torch.float32,\n",
    "    num_layers=3,\n",
    ")\n",
    "n = 2**14 - 2**12\n",
    "probe.fit(\n",
    "    X_train[:n].to(device),\n",
    "    Y_train[:n].to(device).to(float),\n",
    "    x_val=X_train[n:].to(device),\n",
    "    y_val=Y_train[n:].to(device).to(float),\n",
    "    verbose=True,\n",
    "    max_epochs=100,\n",
    ")"
   ]
  },
  {
   "cell_type": "code",
   "execution_count": 18,
   "metadata": {},
   "outputs": [
    {
     "data": {
      "text/plain": [
       "419.8186772225507"
      ]
     },
     "execution_count": 18,
     "metadata": {},
     "output_type": "execute_result"
    }
   ],
   "source": [
    "probe.evaluate(X_test.to(device), Y_test.to(device).to(float), batch_size=128)"
   ]
  }
 ],
 "metadata": {
  "kernelspec": {
   "display_name": "ql",
   "language": "python",
   "name": "python3"
  },
  "language_info": {
   "codemirror_mode": {
    "name": "ipython",
    "version": 3
   },
   "file_extension": ".py",
   "mimetype": "text/x-python",
   "name": "python",
   "nbconvert_exporter": "python",
   "pygments_lexer": "ipython3",
   "version": "3.11.5"
  },
  "orig_nbformat": 4
 },
 "nbformat": 4,
 "nbformat_minor": 2
}
