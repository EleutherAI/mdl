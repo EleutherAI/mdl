{
 "cells": [
  {
   "cell_type": "code",
   "execution_count": 1,
   "metadata": {},
   "outputs": [
    {
     "name": "stdout",
     "output_type": "stream",
     "text": [
      "Files already downloaded and verified\n"
     ]
    }
   ],
   "source": [
    "from torchvision.datasets import CIFAR10\n",
    "from torchvision.transforms.functional import to_tensor\n",
    "import torch\n",
    "\n",
    "device = \"cuda:7\"\n",
    "data = CIFAR10(root=\"/mnt/ssd-1/alexm/cifar10/\", download=True)\n",
    "images, labels = zip(*data)\n",
    "\n",
    "X = torch.stack(list(map(to_tensor, images))).to(device)\n",
    "Y = torch.tensor(labels).to(device)\n",
    "\n",
    "# Shuffle deterministically\n",
    "rng = torch.Generator(device=X.device).manual_seed(42)\n",
    "perm = torch.randperm(len(X), generator=rng, device=X.device)\n",
    "X, Y = X[perm], Y[perm]\n",
    "\n",
    "X_vec = X.view(X.shape[0], -1)\n",
    "k = int(Y.max()) + 1\n",
    "\n",
    "test_size = 1024\n",
    "\n",
    "X_vec_train = X_vec[:-test_size]\n",
    "X_vec_test = X_vec[-test_size:]\n",
    "\n",
    "X_train, X_test = X[:-test_size], X[-test_size:]\n",
    "Y_train, Y_test = Y[:-test_size], Y[-test_size:]"
   ]
  },
  {
   "cell_type": "code",
   "execution_count": 2,
   "metadata": {},
   "outputs": [
    {
     "name": "stderr",
     "output_type": "stream",
     "text": [
      "/tmp/ipykernel_956395/225487411.py:5: FutureWarning: You are using `torch.load` with `weights_only=False` (the current default value), which uses the default pickle module implicitly. It is possible to construct malicious pickle data which will execute arbitrary code during unpickling (See https://github.com/pytorch/pytorch/blob/main/SECURITY.md#untrusted-models for more details). In a future release, the default value for `weights_only` will be flipped to `True`. This limits the functions that could be executed during unpickling. Arbitrary objects will no longer be allowed to be loaded via this mode unless they are explicitly allowlisted by the user via `torch.serialization.add_safe_globals`. We recommend you start setting `weights_only=True` for any use case where you don't have full control of the loaded file. Please open an issue on GitHub for any issues related to this experimental feature.\n",
      "  state = torch.load('/mnt/ssd-1/lucia/ngrams-across-time/erasers_cache/cifar10_state.pth')\n"
     ]
    }
   ],
   "source": [
    "# state = torch.load(\"/home/nora/Data/erasers.pt\")\n",
    "# oleace = state['oleace']\n",
    "# qleace = state['qleace']\n",
    "\n",
    "state = torch.load('/mnt/ssd-1/lucia/ngrams-across-time/erasers_cache/cifar10_state.pth')\n",
    "qleace = state['qleace'].to(device)\n",
    "oleace = state['oleace'].to(device)"
   ]
  },
  {
   "cell_type": "code",
   "execution_count": 3,
   "metadata": {},
   "outputs": [
    {
     "name": "stderr",
     "output_type": "stream",
     "text": [
      "/opt/conda/lib/python3.10/site-packages/tqdm/auto.py:21: TqdmWarning: IProgress not found. Please update jupyter and ipywidgets. See https://ipywidgets.readthedocs.io/en/stable/user_install.html\n",
      "  from .autonotebook import tqdm as notebook_tqdm\n"
     ]
    }
   ],
   "source": [
    "import torch\n",
    "from torch import Tensor, optim\n",
    "\n",
    "from mdl.probe import Probe\n",
    "from mlp_mixer_pytorch import MLPMixer\n",
    "\n",
    "\n",
    "class MixerProbe(Probe):\n",
    "    \"\"\"Multi-layer perceptron with ResNet architecture.\"\"\"\n",
    "\n",
    "    def __init__(\n",
    "        self,\n",
    "        num_features: int,\n",
    "        num_classes: int = 2,\n",
    "        device: str | torch.device = \"cpu\",\n",
    "        dtype: torch.dtype | None = None,\n",
    "    ):\n",
    "        super().__init__(num_features, num_classes, device, dtype)\n",
    "\n",
    "        self.mixer = MLPMixer(\n",
    "            image_size=32,\n",
    "            channels=3,\n",
    "            patch_size=4,\n",
    "            dim=768,\n",
    "            depth=16,\n",
    "            num_classes=k,\n",
    "        ).to(dtype=dtype).to(device=device)\n",
    "\n",
    "    def forward(self, x: Tensor) -> Tensor:\n",
    "        return self.mixer(x).squeeze(-1)\n",
    "\n",
    "    def build_optimizer(self) -> optim.Optimizer:\n",
    "        return optim.SGD(\n",
    "            self.parameters(), lr=0.005, momentum=0.9, weight_decay=5e-4,\n",
    "        )\n",
    "\n",
    "\n",
    "class VitProbe(Probe):\n",
    "    def __init__(\n",
    "        self,\n",
    "        num_classes: int = 2,\n",
    "        device: str | torch.device = \"cpu\",\n",
    "        dtype: torch.dtype | None = None,\n",
    "    ):\n",
    "        super().__init__(3, num_classes, device, dtype)\n",
    "\n",
    "        from vit_pytorch import ViT\n",
    "\n",
    "        self.vit = ViT(\n",
    "            channels=3,\n",
    "            depth=6,\n",
    "            dim=512,\n",
    "            dropout=0.1,\n",
    "            #emb_dropout=0.1,\n",
    "            heads=8,\n",
    "            image_size=32,\n",
    "            mlp_dim=1024,\n",
    "            num_classes=k,\n",
    "            patch_size=4,\n",
    "        ).to(dtype=dtype).to(device=device)\n",
    "\n",
    "    def forward(self, x: Tensor) -> Tensor:\n",
    "        return self.vit(x).squeeze(-1)\n",
    "\n",
    "    def build_optimizer(self) -> optim.Optimizer:\n",
    "        # Implicitly does learning rate warmup in a principled way\n",
    "        #return optim.SGD(self.parameters(), lr=0.005, momentum=0.9, weight_decay=0.1)\n",
    "        return optim.Adam(self.parameters())"
   ]
  },
  {
   "cell_type": "code",
   "execution_count": 4,
   "metadata": {},
   "outputs": [],
   "source": [
    "from torchvision.transforms.v2 import RandAugment, AutoAugment\n",
    "import torchvision as tv\n",
    "\n",
    "image_size = X.shape[-1]\n",
    "padding = round(image_size * 0.125)\n",
    "augmentor = tv.transforms.Compose(\n",
    "    [\n",
    "        tv.transforms.RandomCrop(image_size, padding=padding),\n",
    "        tv.transforms.RandomHorizontalFlip(),\n",
    "        #tv.transforms.Normalize([0.4914, 0.4822, 0.4465], [0.2023, 0.1994, 0.2010]),\n",
    "        # AutoAugment()\n",
    "    ]\n",
    ")"
   ]
  },
  {
   "cell_type": "code",
   "execution_count": 5,
   "metadata": {},
   "outputs": [
    {
     "name": "stdout",
     "output_type": "stream",
     "text": [
      "torch.Size([50000, 3, 32, 32])\n",
      "torch.Size([50000, 3072])\n"
     ]
    }
   ],
   "source": [
    "print(X.shape)\n",
    "print(X_vec.shape)"
   ]
  },
  {
   "cell_type": "code",
   "execution_count": 6,
   "metadata": {},
   "outputs": [
    {
     "data": {
      "text/plain": [
       "torch.Size([146928])"
      ]
     },
     "execution_count": 6,
     "metadata": {},
     "output_type": "execute_result"
    }
   ],
   "source": [
    "# X_train.bfloat16().repeat(3, 1, 1, 1).flatten(1).shape\n",
    "Y_train.repeat(3).shape\n",
    "# Y_train.shape"
   ]
  },
  {
   "cell_type": "code",
   "execution_count": null,
   "metadata": {},
   "outputs": [],
   "source": []
  },
  {
   "cell_type": "code",
   "execution_count": 7,
   "metadata": {},
   "outputs": [],
   "source": [
    "from mdl import Sweep, ResMlpProbe\n",
    "\n",
    "num_epochs = 1\n",
    "num_seeds = 3\n",
    "\n",
    "def reshape(x):\n",
    "    \"reshape tensor to CxHxW\"\n",
    "    return x.view(-1, X.shape[1], X.shape[2], X.shape[3])\n",
    "\n",
    "flattened_image_augmentor = tv.transforms.Compose(\n",
    "    [\n",
    "        tv.transforms.Lambda(reshape),\n",
    "        tv.transforms.RandomCrop(image_size, padding=padding),\n",
    "        tv.transforms.RandomHorizontalFlip(),\n",
    "        tv.transforms.Lambda(lambda x: x.flatten(1)),\n",
    "    ]\n",
    ")\n",
    "sweep = Sweep(\n",
    "    X_vec.shape[1], k, device=X.device, dtype=torch.bfloat16,\n",
    "    num_chunks=10,\n",
    "    probe_cls=ResMlpProbe,\n",
    "    probe_kwargs=dict(num_layers=3),\n",
    ")"
   ]
  },
  {
   "cell_type": "code",
   "execution_count": 8,
   "metadata": {},
   "outputs": [
    {
     "name": "stderr",
     "output_type": "stream",
     "text": [
      "100%|██████████| 9/9 [00:54<00:00,  6.10s/scales, loss=2.1891]\n",
      "100%|██████████| 9/9 [01:05<00:00,  7.33s/scales, loss=2.1870]\n",
      "100%|██████████| 9/9 [00:57<00:00,  6.40s/scales, loss=2.1336]\n"
     ]
    }
   ],
   "source": [
    "results = [\n",
    "    sweep.run(\n",
    "        X_train.bfloat16().repeat(num_epochs, 1, 1, 1).flatten(1), Y_train.repeat(num_epochs), seed=i, \n",
    "        augment=flattened_image_augmentor, reduce_lr_on_plateau=False\n",
    "    )\n",
    "    for i in range(num_seeds)\n",
    "]"
   ]
  },
  {
   "cell_type": "code",
   "execution_count": 9,
   "metadata": {},
   "outputs": [
    {
     "name": "stderr",
     "output_type": "stream",
     "text": [
      "100%|██████████| 9/9 [00:46<00:00,  5.16s/scales, loss=3.5582]\n",
      "100%|██████████| 9/9 [00:46<00:00,  5.13s/scales, loss=3.4984]\n",
      "100%|██████████| 9/9 [00:46<00:00,  5.14s/scales, loss=3.5297]\n"
     ]
    }
   ],
   "source": [
    "results_ = [\n",
    "    sweep.run(\n",
    "        X_train.bfloat16().repeat(num_epochs, 1, 1, 1).flatten(1), Y_train.repeat(num_epochs), seed=i,\n",
    "        transform=lambda x, y: qleace(x, y),\n",
    "        augment=flattened_image_augmentor,\n",
    "    )\n",
    "    for i in range(num_seeds)\n",
    "]"
   ]
  },
  {
   "cell_type": "code",
   "execution_count": 10,
   "metadata": {},
   "outputs": [
    {
     "name": "stderr",
     "output_type": "stream",
     "text": [
      "  0%|          | 0/9 [00:00<?, ?scales/s]"
     ]
    },
    {
     "name": "stdout",
     "output_type": "stream",
     "text": [
      "linear\n"
     ]
    },
    {
     "name": "stderr",
     "output_type": "stream",
     "text": [
      " 11%|█         | 1/9 [00:00<00:05,  1.53scales/s, loss=3.6398]"
     ]
    },
    {
     "name": "stdout",
     "output_type": "stream",
     "text": [
      "linear\n"
     ]
    },
    {
     "name": "stderr",
     "output_type": "stream",
     "text": [
      " 22%|██▏       | 2/9 [00:03<00:12,  1.73s/scales, loss=2.5790]"
     ]
    },
    {
     "name": "stdout",
     "output_type": "stream",
     "text": [
      "linear\n"
     ]
    },
    {
     "name": "stderr",
     "output_type": "stream",
     "text": [
      " 33%|███▎      | 3/9 [00:10<00:25,  4.27s/scales, loss=2.4772]"
     ]
    },
    {
     "name": "stdout",
     "output_type": "stream",
     "text": [
      "linear\n"
     ]
    },
    {
     "name": "stderr",
     "output_type": "stream",
     "text": [
      " 44%|████▍     | 4/9 [00:22<00:35,  7.17s/scales, loss=2.4181]"
     ]
    },
    {
     "name": "stdout",
     "output_type": "stream",
     "text": [
      "linear\n"
     ]
    },
    {
     "name": "stderr",
     "output_type": "stream",
     "text": [
      " 56%|█████▌    | 5/9 [00:44<00:50, 12.54s/scales, loss=2.2874]"
     ]
    },
    {
     "name": "stdout",
     "output_type": "stream",
     "text": [
      "linear\n"
     ]
    },
    {
     "name": "stderr",
     "output_type": "stream",
     "text": [
      " 67%|██████▋   | 6/9 [01:07<00:48, 16.23s/scales, loss=2.1080]"
     ]
    },
    {
     "name": "stdout",
     "output_type": "stream",
     "text": [
      "linear\n"
     ]
    },
    {
     "name": "stderr",
     "output_type": "stream",
     "text": [
      " 78%|███████▊  | 7/9 [01:44<00:45, 22.98s/scales, loss=1.9951]"
     ]
    },
    {
     "name": "stdout",
     "output_type": "stream",
     "text": [
      "linear\n"
     ]
    },
    {
     "name": "stderr",
     "output_type": "stream",
     "text": [
      " 89%|████████▉ | 8/9 [02:12<00:24, 24.64s/scales, loss=2.0724]"
     ]
    },
    {
     "name": "stdout",
     "output_type": "stream",
     "text": [
      "linear\n"
     ]
    },
    {
     "name": "stderr",
     "output_type": "stream",
     "text": [
      "100%|██████████| 9/9 [02:55<00:00, 19.48s/scales, loss=2.0231]\n",
      "  0%|          | 0/9 [00:00<?, ?scales/s]"
     ]
    },
    {
     "name": "stdout",
     "output_type": "stream",
     "text": [
      "linear\n"
     ]
    },
    {
     "name": "stderr",
     "output_type": "stream",
     "text": [
      " 11%|█         | 1/9 [00:00<00:03,  2.19scales/s, loss=3.5956]"
     ]
    },
    {
     "name": "stdout",
     "output_type": "stream",
     "text": [
      "linear\n"
     ]
    },
    {
     "name": "stderr",
     "output_type": "stream",
     "text": [
      " 22%|██▏       | 2/9 [00:03<00:14,  2.05s/scales, loss=2.5644]"
     ]
    },
    {
     "name": "stdout",
     "output_type": "stream",
     "text": [
      "linear\n"
     ]
    },
    {
     "name": "stderr",
     "output_type": "stream",
     "text": [
      " 33%|███▎      | 3/9 [00:12<00:29,  4.98s/scales, loss=2.4607]"
     ]
    },
    {
     "name": "stdout",
     "output_type": "stream",
     "text": [
      "linear\n"
     ]
    },
    {
     "name": "stderr",
     "output_type": "stream",
     "text": [
      " 44%|████▍     | 4/9 [00:22<00:35,  7.07s/scales, loss=2.3314]"
     ]
    },
    {
     "name": "stdout",
     "output_type": "stream",
     "text": [
      "linear\n"
     ]
    },
    {
     "name": "stderr",
     "output_type": "stream",
     "text": [
      " 56%|█████▌    | 5/9 [00:36<00:38,  9.53s/scales, loss=2.2957]"
     ]
    },
    {
     "name": "stdout",
     "output_type": "stream",
     "text": [
      "linear\n"
     ]
    },
    {
     "name": "stderr",
     "output_type": "stream",
     "text": [
      " 67%|██████▋   | 6/9 [00:46<00:29,  9.85s/scales, loss=2.2741]"
     ]
    },
    {
     "name": "stdout",
     "output_type": "stream",
     "text": [
      "linear\n"
     ]
    },
    {
     "name": "stderr",
     "output_type": "stream",
     "text": [
      " 78%|███████▊  | 7/9 [01:14<00:31, 15.75s/scales, loss=2.1020]"
     ]
    },
    {
     "name": "stdout",
     "output_type": "stream",
     "text": [
      "linear\n"
     ]
    },
    {
     "name": "stderr",
     "output_type": "stream",
     "text": [
      " 89%|████████▉ | 8/9 [02:15<00:30, 30.16s/scales, loss=1.9753]"
     ]
    },
    {
     "name": "stdout",
     "output_type": "stream",
     "text": [
      "linear\n"
     ]
    },
    {
     "name": "stderr",
     "output_type": "stream",
     "text": [
      "100%|██████████| 9/9 [03:13<00:00, 21.47s/scales, loss=1.9713]\n",
      "  0%|          | 0/9 [00:00<?, ?scales/s]"
     ]
    },
    {
     "name": "stdout",
     "output_type": "stream",
     "text": [
      "linear\n"
     ]
    },
    {
     "name": "stderr",
     "output_type": "stream",
     "text": [
      " 11%|█         | 1/9 [00:00<00:03,  2.18scales/s, loss=3.5691]"
     ]
    },
    {
     "name": "stdout",
     "output_type": "stream",
     "text": [
      "linear\n"
     ]
    },
    {
     "name": "stderr",
     "output_type": "stream",
     "text": [
      " 22%|██▏       | 2/9 [00:03<00:14,  2.12s/scales, loss=2.7067]"
     ]
    },
    {
     "name": "stdout",
     "output_type": "stream",
     "text": [
      "linear\n"
     ]
    },
    {
     "name": "stderr",
     "output_type": "stream",
     "text": [
      " 33%|███▎      | 3/9 [00:08<00:18,  3.13s/scales, loss=2.4777]"
     ]
    },
    {
     "name": "stdout",
     "output_type": "stream",
     "text": [
      "linear\n"
     ]
    },
    {
     "name": "stderr",
     "output_type": "stream",
     "text": [
      " 44%|████▍     | 4/9 [00:14<00:22,  4.46s/scales, loss=2.4509]"
     ]
    },
    {
     "name": "stdout",
     "output_type": "stream",
     "text": [
      "linear\n"
     ]
    },
    {
     "name": "stderr",
     "output_type": "stream",
     "text": [
      " 56%|█████▌    | 5/9 [00:29<00:33,  8.37s/scales, loss=2.2575]"
     ]
    },
    {
     "name": "stdout",
     "output_type": "stream",
     "text": [
      "linear\n"
     ]
    },
    {
     "name": "stderr",
     "output_type": "stream",
     "text": [
      " 67%|██████▋   | 6/9 [00:51<00:38, 12.80s/scales, loss=2.2310]"
     ]
    },
    {
     "name": "stdout",
     "output_type": "stream",
     "text": [
      "linear\n"
     ]
    },
    {
     "name": "stderr",
     "output_type": "stream",
     "text": [
      " 78%|███████▊  | 7/9 [01:29<00:42, 21.22s/scales, loss=2.1522]"
     ]
    },
    {
     "name": "stdout",
     "output_type": "stream",
     "text": [
      "linear\n"
     ]
    },
    {
     "name": "stderr",
     "output_type": "stream",
     "text": [
      " 89%|████████▉ | 8/9 [02:27<00:32, 32.73s/scales, loss=1.9897]"
     ]
    },
    {
     "name": "stdout",
     "output_type": "stream",
     "text": [
      "linear\n"
     ]
    },
    {
     "name": "stderr",
     "output_type": "stream",
     "text": [
      "100%|██████████| 9/9 [03:31<00:00, 23.48s/scales, loss=1.9772]\n"
     ]
    }
   ],
   "source": [
    "results_linear_ = [\n",
    "    sweep.run(\n",
    "        X_train.repeat(num_epochs, 1, 1, 1).bfloat16(), Y_train.repeat(num_epochs), seed=i,\n",
    "        transform=lambda x, y: oleace(x.flatten(1), y),\n",
    "        augment=flattened_image_augmentor,\n",
    "    )\n",
    "    for i in range(num_seeds)\n",
    "]"
   ]
  },
  {
   "cell_type": "code",
   "execution_count": 11,
   "metadata": {},
   "outputs": [],
   "source": [
    "import pickle\n",
    "\n",
    "from pathlib import Path\n",
    "results_path = Path('/mnt/ssd-1/lucia/results')\n",
    "results_path.mkdir(exist_ok=True)\n",
    "\n",
    "with open(results_path / \"mlp3.pkl\", \"wb\") as f:\n",
    "    pickle.dump({\n",
    "        'results': results,\n",
    "        'results_': results_,\n",
    "        'results_linear_': results_linear_,\n",
    "    }, f)"
   ]
  },
  {
   "cell_type": "code",
   "execution_count": 12,
   "metadata": {},
   "outputs": [
    {
     "name": "stderr",
     "output_type": "stream",
     "text": [
      "Epoch:   0%|          | 0/200 [00:00<?, ?it/s]"
     ]
    },
    {
     "name": "stderr",
     "output_type": "stream",
     "text": [
      "Epoch:  18%|█▊        | 37/200 [05:39<24:57,  9.19s/it, loss=0.557]\n"
     ]
    },
    {
     "data": {
      "text/plain": [
       "0.875"
      ]
     },
     "execution_count": 12,
     "metadata": {},
     "output_type": "execute_result"
    }
   ],
   "source": [
    "from mdl import VisionProbe\n",
    "\n",
    "probe = VisionProbe(k, device=X.device)\n",
    "probe.fit(X_train, Y_train, reduce_lr_on_plateau=False, max_epochs=200, verbose=True, early_stop_epochs=10, augment=augmentor)\n",
    "probe.accuracy(X_test, Y_test, 128)"
   ]
  },
  {
   "cell_type": "code",
   "execution_count": 13,
   "metadata": {},
   "outputs": [],
   "source": [
    "import numpy as np\n",
    "\n",
    "# curve = np.median([res.ce_curve for res in results], axis=0)\n",
    "curve_ = np.median([res.ce_curve for res in results_], axis=0)\n",
    "# curve_linear_ = np.median([res.ce_curve for res in results_linear_], axis=0)"
   ]
  },
  {
   "cell_type": "code",
   "execution_count": 14,
   "metadata": {},
   "outputs": [],
   "source": [
    "# sum(p.numel() for p in mixer.parameters())"
   ]
  },
  {
   "cell_type": "code",
   "execution_count": 15,
   "metadata": {},
   "outputs": [
    {
     "data": {
      "image/png": "[encoded data removed]",
      "text/plain": [
       "<Figure size 640x480 with 1 Axes>"
      ]
     },
     "metadata": {},
     "output_type": "display_data"
    }
   ],
   "source": [
    "import matplotlib.pyplot as plt\n",
    "\n",
    "for i in range(num_seeds):\n",
    "    # plt.plot(results[i].sample_sizes[:-1], results[i].ce_curve, alpha=0.15, c=\"black\")\n",
    "    plt.plot(results_[i].sample_sizes[:-1], results_[i].ce_curve, alpha=0.15, c=\"black\")\n",
    "    # plt.plot(results_[i].sample_sizes[:-1], results_linear_[i].ce_curve, alpha=0.15, c=\"black\")\n",
    "\n",
    "# plt.plot(results[0].sample_sizes[:-1], curve, label=\"Original\", marker=\"o\")\n",
    "plt.plot(results_[0].sample_sizes[:-1], curve_, label=\"Q-LEACE\", marker=\"o\")\n",
    "# plt.plot(results_[0].sample_sizes[:-1], curve_linear_, label=\"LEACE\", marker=\"o\")\n",
    "\n",
    "plt.hlines(np.log2(10), 0, 2 ** 16, label=\"Chance\", linestyle=\"--\", color=\"black\")\n",
    "plt.legend()\n",
    "plt.xscale(\"log\", base=2)\n",
    "plt.xlabel(\"Training samples\")\n",
    "plt.ylabel(\"Cross-entropy (bits)\")\n",
    "plt.title(\"CIFAR-10 (3-Layer MLP)\")\n",
    "plt.yscale(\"log\", base=2)\n",
    "\n",
    "# add numbers to y axis\n",
    "# locs, _ = plt.yticks()\n",
    "# locs = np.log2(locs)\n",
    "# locs = np.round(locs).astype(int)\n",
    "# plt.yticks(2 ** locs, [f\"2^{loc}\" for loc in locs])\n"
   ]
  },
  {
   "cell_type": "code",
   "execution_count": 15,
   "metadata": {},
   "outputs": [
    {
     "name": "stderr",
     "output_type": "stream",
     "text": [
      "/opt/conda/lib/python3.10/site-packages/torchvision/models/_utils.py:208: UserWarning: The parameter 'pretrained' is deprecated since 0.13 and may be removed in the future, please use 'weights' instead.\n",
      "  warnings.warn(\n",
      "/opt/conda/lib/python3.10/site-packages/torchvision/models/_utils.py:223: UserWarning: Arguments other than a weight enum or `None` for 'weights' are deprecated since 0.13 and may be removed in the future. The current behavior is equivalent to passing `weights=ResNet18_Weights.IMAGENET1K_V1`. You can also use `weights=ResNet18_Weights.DEFAULT` to get the most up-to-date weights.\n",
      "  warnings.warn(msg)\n"
     ]
    }
   ],
   "source": [
    "resnet = tv.models.resnet18(pretrained=True)"
   ]
  },
  {
   "cell_type": "code",
   "execution_count": 16,
   "metadata": {},
   "outputs": [
    {
     "data": {
      "text/plain": [
       "BasicBlock(\n",
       "  (conv1): Conv2d(64, 64, kernel_size=(3, 3), stride=(1, 1), padding=(1, 1), bias=False)\n",
       "  (bn1): BatchNorm2d(64, eps=1e-05, momentum=0.1, affine=True, track_running_stats=True)\n",
       "  (relu): ReLU(inplace=True)\n",
       "  (conv2): Conv2d(64, 64, kernel_size=(3, 3), stride=(1, 1), padding=(1, 1), bias=False)\n",
       "  (bn2): BatchNorm2d(64, eps=1e-05, momentum=0.1, affine=True, track_running_stats=True)\n",
       ")"
      ]
     },
     "execution_count": 16,
     "metadata": {},
     "output_type": "execute_result"
    }
   ],
   "source": [
    "resnet.layer1[0]"
   ]
  },
  {
   "cell_type": "code",
   "execution_count": 17,
   "metadata": {},
   "outputs": [],
   "source": [
    "from torchvision.models.resnet import BasicBlock"
   ]
  },
  {
   "cell_type": "code",
   "execution_count": 18,
   "metadata": {},
   "outputs": [],
   "source": [
    "from torch import nn\n",
    "\n",
    "class MlpBlock(nn.Module):\n",
    "    def __init__(\n",
    "        self, in_features: int, out_features: int, device = None, dtype = None\n",
    "    ):\n",
    "        super().__init__()\n",
    "\n",
    "        self.linear1 = nn.Linear(\n",
    "            in_features, out_features, bias=False, device=device, dtype=dtype\n",
    "        )\n",
    "        self.linear2 = nn.Linear(\n",
    "            out_features, out_features, bias=False, device=device, dtype=dtype\n",
    "        )\n",
    "        self.bn1 = nn.BatchNorm1d(\n",
    "            in_features, device=device, dtype=dtype\n",
    "        )\n",
    "        self.bn2 = nn.BatchNorm1d(\n",
    "            out_features, device=device, dtype=dtype\n",
    "        )\n",
    "        self.downsample = nn.Linear(\n",
    "            in_features, out_features, bias=False, device=device, dtype=dtype\n",
    "        ) if in_features != out_features else None\n",
    "\n",
    "    def forward(self, x):\n",
    "        identity = x\n",
    "    \n",
    "        out = self.linear1(x)\n",
    "        out = self.bn1(out)\n",
    "        out = nn.functional.relu(out)\n",
    "\n",
    "        out = self.linear2(out)\n",
    "        out = self.bn2(out)\n",
    "\n",
    "        if self.downsample is not None:\n",
    "            identity = self.downsample(identity)\n",
    "\n",
    "        out += identity\n",
    "        out = nn.functional.relu(out)\n",
    "\n",
    "        return out"
   ]
  },
  {
   "cell_type": "code",
   "execution_count": 19,
   "metadata": {},
   "outputs": [],
   "source": [
    "def to_bytes(x):\n",
    "    return x.mul(255).byte()\n",
    "\n",
    "def to_float(x):\n",
    "    return x.float().div(255)\n"
   ]
  },
  {
   "cell_type": "code",
   "execution_count": 20,
   "metadata": {},
   "outputs": [
    {
     "name": "stderr",
     "output_type": "stream",
     "text": [
      "Epoch:   0%|          | 0/200 [00:00<?, ?it/s, loss=3.39]"
     ]
    },
    {
     "name": "stderr",
     "output_type": "stream",
     "text": [
      "Epoch:  66%|██████▋   | 133/200 [18:38<09:23,  8.41s/it, loss=2.01]\n"
     ]
    }
   ],
   "source": [
    "from torchvision.transforms.functional import to_pil_image\n",
    "\n",
    "with torch.autocast(\"cuda\"):\n",
    "    vit = VitProbe(device=X.device)\n",
    "    vit.fit(X_train, Y_train, verbose=True, reduce_lr_on_plateau=True, max_epochs=200, early_stop_epochs=50, augment=augmentor, batch_size=100)"
   ]
  },
  {
   "cell_type": "code",
   "execution_count": 21,
   "metadata": {},
   "outputs": [
    {
     "data": {
      "text/plain": [
       "0.4794921875"
      ]
     },
     "execution_count": 21,
     "metadata": {},
     "output_type": "execute_result"
    }
   ],
   "source": [
    "vit.accuracy(X_test, Y_test, 128)"
   ]
  }
 ],
 "metadata": {
  "kernelspec": {
   "display_name": "base",
   "language": "python",
   "name": "python3"
  },
  "language_info": {
   "codemirror_mode": {
    "name": "ipython",
    "version": 3
   },
   "file_extension": ".py",
   "mimetype": "text/x-python",
   "name": "python",
   "nbconvert_exporter": "python",
   "pygments_lexer": "ipython3",
   "version": "3.10.15"
  },
  "orig_nbformat": 4
 },
 "nbformat": 4,
 "nbformat_minor": 2
}
