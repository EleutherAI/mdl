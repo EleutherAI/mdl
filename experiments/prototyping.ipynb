{
 "cells": [
  {
   "cell_type": "code",
   "execution_count": 1,
   "metadata": {},
   "outputs": [
    {
     "name": "stdout",
     "output_type": "stream",
     "text": [
      "Files already downloaded and verified\n"
     ]
    }
   ],
   "source": [
    "from torchvision.datasets import CIFAR10\n",
    "from torchvision.transforms.functional import to_tensor\n",
    "import torch\n",
    "\n",
    "\n",
    "data = CIFAR10(root=\"/home/nora/Data/cifar10\", download=True)\n",
    "images, labels = zip(*data)\n",
    "\n",
    "X = torch.stack(list(map(to_tensor, images))).cuda()\n",
    "Y = torch.tensor(labels).cuda()\n",
    "\n",
    "# Shuffle deterministically\n",
    "rng = torch.Generator(device=X.device).manual_seed(42)\n",
    "perm = torch.randperm(len(X), generator=rng, device=X.device)\n",
    "X, Y = X[perm], Y[perm]\n",
    "\n",
    "X_vec = X.view(X.shape[0], -1)\n",
    "k = int(Y.max()) + 1\n",
    "\n",
    "test_size = 1024\n",
    "\n",
    "X_vec_train = X_vec[:-test_size]\n",
    "X_vec_test = X_vec[-test_size:]\n",
    "\n",
    "X_train, X_test = X[:-test_size], X[-test_size:]\n",
    "Y_train, Y_test = Y[:-test_size], Y[-test_size:]"
   ]
  },
  {
   "cell_type": "code",
   "execution_count": 2,
   "metadata": {},
   "outputs": [],
   "source": [
    "state = torch.load(\"/home/nora/Data/erasers.pt\")\n",
    "oleace = state['oleace']\n",
    "qleace = state['qleace']"
   ]
  },
  {
   "cell_type": "code",
   "execution_count": 13,
   "metadata": {},
   "outputs": [],
   "source": [
    "import torch\n",
    "from torch import Tensor, optim\n",
    "\n",
    "from mdl.probe import Probe\n",
    "from mlp_mixer_pytorch import MLPMixer\n",
    "\n",
    "\n",
    "class MixerProbe(Probe):\n",
    "    \"\"\"Multi-layer perceptron with ResNet architecture.\"\"\"\n",
    "\n",
    "    def __init__(\n",
    "        self,\n",
    "        num_features: int,\n",
    "        num_classes: int = 2,\n",
    "        device: str | torch.device = \"cpu\",\n",
    "        dtype: torch.dtype | None = None,\n",
    "    ):\n",
    "        super().__init__(num_features, num_classes, device, dtype)\n",
    "\n",
    "        self.mixer = MLPMixer(\n",
    "            image_size=32,\n",
    "            channels=3,\n",
    "            patch_size=4,\n",
    "            dim=768,\n",
    "            depth=16,\n",
    "            num_classes=k,\n",
    "        ).to(dtype=dtype).to(device=device)\n",
    "\n",
    "    def forward(self, x: Tensor) -> Tensor:\n",
    "        return self.mixer(x).squeeze(-1)\n",
    "\n",
    "    def build_optimizer(self) -> optim.Optimizer:\n",
    "        return optim.SGD(\n",
    "            self.parameters(), lr=0.005, momentum=0.9, weight_decay=5e-4,\n",
    "        )\n",
    "\n",
    "\n",
    "class VitProbe(Probe):\n",
    "    def __init__(\n",
    "        self,\n",
    "        num_classes: int = 2,\n",
    "        device: str | torch.device = \"cpu\",\n",
    "        dtype: torch.dtype | None = None,\n",
    "    ):\n",
    "        super().__init__(3, num_classes, device, dtype)\n",
    "\n",
    "        from vit_pytorch import ViT\n",
    "\n",
    "        self.vit = ViT(\n",
    "            channels=3,\n",
    "            depth=6,\n",
    "            dim=512,\n",
    "            dropout=0.1,\n",
    "            #emb_dropout=0.1,\n",
    "            heads=8,\n",
    "            image_size=32,\n",
    "            mlp_dim=1024,\n",
    "            num_classes=k,\n",
    "            patch_size=4,\n",
    "        ).to(dtype=dtype).to(device=device)\n",
    "\n",
    "    def forward(self, x: Tensor) -> Tensor:\n",
    "        return self.vit(x).squeeze(-1)\n",
    "\n",
    "    def build_optimizer(self) -> optim.Optimizer:\n",
    "        # Implicitly does learning rate warmup in a principled way\n",
    "        #return optim.SGD(self.parameters(), lr=0.005, momentum=0.9, weight_decay=0.1)\n",
    "        return optim.Adam(self.parameters())"
   ]
  },
  {
   "cell_type": "code",
   "execution_count": 4,
   "metadata": {},
   "outputs": [
    {
     "name": "stderr",
     "output_type": "stream",
     "text": [
      "/home/nora/miniconda3/lib/python3.11/site-packages/torchvision/datapoints/__init__.py:12: UserWarning: The torchvision.datapoints and torchvision.transforms.v2 namespaces are still Beta. While we do not expect major breaking changes, some APIs may still change according to user feedback. Please submit any feedback you may have in this issue: https://github.com/pytorch/vision/issues/6753, and you can also check out https://github.com/pytorch/vision/issues/7319 to learn more about the APIs that we suspect might involve future changes. You can silence this warning by calling torchvision.disable_beta_transforms_warning().\n",
      "  warnings.warn(_BETA_TRANSFORMS_WARNING)\n",
      "/home/nora/miniconda3/lib/python3.11/site-packages/torchvision/transforms/v2/__init__.py:54: UserWarning: The torchvision.datapoints and torchvision.transforms.v2 namespaces are still Beta. While we do not expect major breaking changes, some APIs may still change according to user feedback. Please submit any feedback you may have in this issue: https://github.com/pytorch/vision/issues/6753, and you can also check out https://github.com/pytorch/vision/issues/7319 to learn more about the APIs that we suspect might involve future changes. You can silence this warning by calling torchvision.disable_beta_transforms_warning().\n",
      "  warnings.warn(_BETA_TRANSFORMS_WARNING)\n"
     ]
    }
   ],
   "source": [
    "from torchvision.transforms.v2 import RandAugment, AutoAugment\n",
    "import torchvision as tv\n",
    "\n",
    "image_size = X.shape[-1]\n",
    "padding = round(image_size * 0.125)\n",
    "\n",
    "augmentor = tv.transforms.Compose(\n",
    "    [\n",
    "        tv.transforms.RandomCrop(image_size, padding=padding),\n",
    "        tv.transforms.RandomHorizontalFlip(),\n",
    "        #tv.transforms.Normalize([0.4914, 0.4822, 0.4465], [0.2023, 0.1994, 0.2010]),\n",
    "        # AutoAugment()\n",
    "    ]\n",
    ")"
   ]
  },
  {
   "cell_type": "code",
   "execution_count": 7,
   "metadata": {},
   "outputs": [
    {
     "data": {
      "application/vnd.jupyter.widget-view+json": {
       "model_id": "bf4a39f8b1fc4186bf61cc64076f978e",
       "version_major": 2,
       "version_minor": 0
      },
      "text/plain": [
       "Epoch:   0%|          | 0/200 [00:00<?, ?it/s]"
      ]
     },
     "metadata": {},
     "output_type": "display_data"
    },
    {
     "name": "stderr",
     "output_type": "stream",
     "text": [
      "/home/nora/miniconda3/lib/python3.11/site-packages/torch/nn/modules/conv.py:459: UserWarning: Applied workaround for CuDNN issue, install nvrtc.so (Triggered internally at /opt/conda/conda-bld/pytorch_1682343995622/work/aten/src/ATen/native/cudnn/Conv_v8.cpp:80.)\n",
      "  return F.conv2d(input, weight, bias, self.stride,\n"
     ]
    },
    {
     "ename": "KeyboardInterrupt",
     "evalue": "",
     "output_type": "error",
     "traceback": [
      "\u001b[0;31m---------------------------------------------------------------------------\u001b[0m",
      "\u001b[0;31mKeyboardInterrupt\u001b[0m                         Traceback (most recent call last)",
      "\u001b[1;32m/home/nora/Code/mdl/experiments/mnist.ipynb Cell 5\u001b[0m line \u001b[0;36m4\n\u001b[1;32m      <a href='vscode-notebook-cell:/home/nora/Code/mdl/experiments/mnist.ipynb#W4sZmlsZQ%3D%3D?line=0'>1</a>\u001b[0m \u001b[39mfrom\u001b[39;00m \u001b[39mmdl\u001b[39;00m \u001b[39mimport\u001b[39;00m VisionProbe\n\u001b[1;32m      <a href='vscode-notebook-cell:/home/nora/Code/mdl/experiments/mnist.ipynb#W4sZmlsZQ%3D%3D?line=2'>3</a>\u001b[0m probe \u001b[39m=\u001b[39m VisionProbe(k, device\u001b[39m=\u001b[39mX\u001b[39m.\u001b[39mdevice)\n\u001b[0;32m----> <a href='vscode-notebook-cell:/home/nora/Code/mdl/experiments/mnist.ipynb#W4sZmlsZQ%3D%3D?line=3'>4</a>\u001b[0m probe\u001b[39m.\u001b[39mfit(X_train, Y_train, reduce_lr_on_plateau\u001b[39m=\u001b[39m\u001b[39mFalse\u001b[39;00m, max_epochs\u001b[39m=\u001b[39m\u001b[39m200\u001b[39m, verbose\u001b[39m=\u001b[39m\u001b[39mTrue\u001b[39;00m, early_stop_epochs\u001b[39m=\u001b[39m\u001b[39m10\u001b[39m, augment\u001b[39m=\u001b[39maugmentor)\n",
      "File \u001b[0;32m~/miniconda3/lib/python3.11/site-packages/torch/utils/_contextlib.py:115\u001b[0m, in \u001b[0;36mcontext_decorator.<locals>.decorate_context\u001b[0;34m(*args, **kwargs)\u001b[0m\n\u001b[1;32m    112\u001b[0m \u001b[39m@functools\u001b[39m\u001b[39m.\u001b[39mwraps(func)\n\u001b[1;32m    113\u001b[0m \u001b[39mdef\u001b[39;00m \u001b[39mdecorate_context\u001b[39m(\u001b[39m*\u001b[39margs, \u001b[39m*\u001b[39m\u001b[39m*\u001b[39mkwargs):\n\u001b[1;32m    114\u001b[0m     \u001b[39mwith\u001b[39;00m ctx_factory():\n\u001b[0;32m--> 115\u001b[0m         \u001b[39mreturn\u001b[39;00m func(\u001b[39m*\u001b[39margs, \u001b[39m*\u001b[39m\u001b[39m*\u001b[39mkwargs)\n",
      "File \u001b[0;32m~/Code/mdl/mdl/probe.py:146\u001b[0m, in \u001b[0;36mProbe.fit\u001b[0;34m(self, x, y, augment, batch_size, early_stop_epochs, max_epochs, reduce_lr_on_plateau, return_validation_losses, seed, transform, verbose, x_val, y_val)\u001b[0m\n\u001b[1;32m    144\u001b[0m     loss \u001b[39m=\u001b[39m \u001b[39mself\u001b[39m\u001b[39m.\u001b[39mloss(x_batch, y_batch)\n\u001b[1;32m    145\u001b[0m     scaler\u001b[39m.\u001b[39mscale(loss)\u001b[39m.\u001b[39mbackward()\n\u001b[0;32m--> 146\u001b[0m     scaler\u001b[39m.\u001b[39mstep(opt)\n\u001b[1;32m    147\u001b[0m     scaler\u001b[39m.\u001b[39mupdate()\n\u001b[1;32m    148\u001b[0m     \u001b[39m# opt.step()\u001b[39;00m\n\u001b[1;32m    149\u001b[0m \n\u001b[1;32m    150\u001b[0m \u001b[39m# Update learning rate\u001b[39;00m\n",
      "File \u001b[0;32m~/miniconda3/lib/python3.11/site-packages/torch/cuda/amp/grad_scaler.py:374\u001b[0m, in \u001b[0;36mGradScaler.step\u001b[0;34m(self, optimizer, *args, **kwargs)\u001b[0m\n\u001b[1;32m    370\u001b[0m     \u001b[39mself\u001b[39m\u001b[39m.\u001b[39munscale_(optimizer)\n\u001b[1;32m    372\u001b[0m \u001b[39massert\u001b[39;00m \u001b[39mlen\u001b[39m(optimizer_state[\u001b[39m\"\u001b[39m\u001b[39mfound_inf_per_device\u001b[39m\u001b[39m\"\u001b[39m]) \u001b[39m>\u001b[39m \u001b[39m0\u001b[39m, \u001b[39m\"\u001b[39m\u001b[39mNo inf checks were recorded for this optimizer.\u001b[39m\u001b[39m\"\u001b[39m\n\u001b[0;32m--> 374\u001b[0m retval \u001b[39m=\u001b[39m \u001b[39mself\u001b[39m\u001b[39m.\u001b[39m_maybe_opt_step(optimizer, optimizer_state, \u001b[39m*\u001b[39margs, \u001b[39m*\u001b[39m\u001b[39m*\u001b[39mkwargs)\n\u001b[1;32m    376\u001b[0m optimizer_state[\u001b[39m\"\u001b[39m\u001b[39mstage\u001b[39m\u001b[39m\"\u001b[39m] \u001b[39m=\u001b[39m OptState\u001b[39m.\u001b[39mSTEPPED\n\u001b[1;32m    378\u001b[0m \u001b[39mreturn\u001b[39;00m retval\n",
      "File \u001b[0;32m~/miniconda3/lib/python3.11/site-packages/torch/cuda/amp/grad_scaler.py:289\u001b[0m, in \u001b[0;36mGradScaler._maybe_opt_step\u001b[0;34m(self, optimizer, optimizer_state, *args, **kwargs)\u001b[0m\n\u001b[1;32m    287\u001b[0m \u001b[39mdef\u001b[39;00m \u001b[39m_maybe_opt_step\u001b[39m(\u001b[39mself\u001b[39m, optimizer, optimizer_state, \u001b[39m*\u001b[39margs, \u001b[39m*\u001b[39m\u001b[39m*\u001b[39mkwargs):\n\u001b[1;32m    288\u001b[0m     retval \u001b[39m=\u001b[39m \u001b[39mNone\u001b[39;00m\n\u001b[0;32m--> 289\u001b[0m     \u001b[39mif\u001b[39;00m \u001b[39mnot\u001b[39;00m \u001b[39msum\u001b[39m(v\u001b[39m.\u001b[39mitem() \u001b[39mfor\u001b[39;00m v \u001b[39min\u001b[39;00m optimizer_state[\u001b[39m\"\u001b[39m\u001b[39mfound_inf_per_device\u001b[39m\u001b[39m\"\u001b[39m]\u001b[39m.\u001b[39mvalues()):\n\u001b[1;32m    290\u001b[0m         retval \u001b[39m=\u001b[39m optimizer\u001b[39m.\u001b[39mstep(\u001b[39m*\u001b[39margs, \u001b[39m*\u001b[39m\u001b[39m*\u001b[39mkwargs)\n\u001b[1;32m    291\u001b[0m     \u001b[39mreturn\u001b[39;00m retval\n",
      "File \u001b[0;32m~/miniconda3/lib/python3.11/site-packages/torch/cuda/amp/grad_scaler.py:289\u001b[0m, in \u001b[0;36m<genexpr>\u001b[0;34m(.0)\u001b[0m\n\u001b[1;32m    287\u001b[0m \u001b[39mdef\u001b[39;00m \u001b[39m_maybe_opt_step\u001b[39m(\u001b[39mself\u001b[39m, optimizer, optimizer_state, \u001b[39m*\u001b[39margs, \u001b[39m*\u001b[39m\u001b[39m*\u001b[39mkwargs):\n\u001b[1;32m    288\u001b[0m     retval \u001b[39m=\u001b[39m \u001b[39mNone\u001b[39;00m\n\u001b[0;32m--> 289\u001b[0m     \u001b[39mif\u001b[39;00m \u001b[39mnot\u001b[39;00m \u001b[39msum\u001b[39m(v\u001b[39m.\u001b[39mitem() \u001b[39mfor\u001b[39;00m v \u001b[39min\u001b[39;00m optimizer_state[\u001b[39m\"\u001b[39m\u001b[39mfound_inf_per_device\u001b[39m\u001b[39m\"\u001b[39m]\u001b[39m.\u001b[39mvalues()):\n\u001b[1;32m    290\u001b[0m         retval \u001b[39m=\u001b[39m optimizer\u001b[39m.\u001b[39mstep(\u001b[39m*\u001b[39margs, \u001b[39m*\u001b[39m\u001b[39m*\u001b[39mkwargs)\n\u001b[1;32m    291\u001b[0m     \u001b[39mreturn\u001b[39;00m retval\n",
      "\u001b[0;31mKeyboardInterrupt\u001b[0m: "
     ]
    }
   ],
   "source": [
    "from mdl import VisionProbe\n",
    "\n",
    "probe = VisionProbe(k, device=X.device)\n",
    "probe.fit(X_train, Y_train, reduce_lr_on_plateau=False, max_epochs=200, verbose=True, early_stop_epochs=10, augment=augmentor)"
   ]
  },
  {
   "cell_type": "code",
   "execution_count": 12,
   "metadata": {},
   "outputs": [
    {
     "data": {
      "text/plain": [
       "0.8466796875"
      ]
     },
     "execution_count": 12,
     "metadata": {},
     "output_type": "execute_result"
    }
   ],
   "source": [
    "probe.accuracy(X_test.bfloat16(), Y_test, 128)"
   ]
  },
  {
   "cell_type": "code",
   "execution_count": 7,
   "metadata": {},
   "outputs": [],
   "source": [
    "def to_bytes(x):\n",
    "    return x.mul(255).byte()\n",
    "\n",
    "def to_float(x):\n",
    "    return x.float().div(255)\n"
   ]
  },
  {
   "cell_type": "code",
   "execution_count": 14,
   "metadata": {},
   "outputs": [
    {
     "data": {
      "application/vnd.jupyter.widget-view+json": {
       "model_id": "a6560a465e5e4ed58a5602353333f9be",
       "version_major": 2,
       "version_minor": 0
      },
      "text/plain": [
       "Epoch:   0%|          | 0/200 [00:00<?, ?it/s]"
      ]
     },
     "metadata": {},
     "output_type": "display_data"
    }
   ],
   "source": [
    "from torchvision.transforms.functional import to_pil_image\n",
    "\n",
    "with torch.autocast(\"cuda\"):\n",
    "    vit = VitProbe(device=X.device)\n",
    "    vit.fit(X_train, Y_train, verbose=True, reduce_lr_on_plateau=True, max_epochs=200, early_stop_epochs=50, augment=augmentor, batch_size=100)"
   ]
  },
  {
   "cell_type": "code",
   "execution_count": null,
   "metadata": {},
   "outputs": [],
   "source": []
  },
  {
   "cell_type": "code",
   "execution_count": 16,
   "metadata": {},
   "outputs": [
    {
     "data": {
      "text/plain": [
       "0.505859375"
      ]
     },
     "execution_count": 16,
     "metadata": {},
     "output_type": "execute_result"
    }
   ],
   "source": [
    "vit.accuracy(X_test, Y_test, 128)"
   ]
  },
  {
   "cell_type": "code",
   "execution_count": 64,
   "metadata": {},
   "outputs": [
    {
     "data": {
      "application/vnd.jupyter.widget-view+json": {
       "model_id": "314be3cb66dc4cb297f7bbb07a2dc2ec",
       "version_major": 2,
       "version_minor": 0
      },
      "text/plain": [
       "  0%|          | 0/9 [00:00<?, ?scales/s]"
      ]
     },
     "metadata": {},
     "output_type": "display_data"
    },
    {
     "data": {
      "application/vnd.jupyter.widget-view+json": {
       "model_id": "cab83965726f4426aee7df4052e526a3",
       "version_major": 2,
       "version_minor": 0
      },
      "text/plain": [
       "  0%|          | 0/9 [00:00<?, ?scales/s]"
      ]
     },
     "metadata": {},
     "output_type": "display_data"
    },
    {
     "ename": "KeyboardInterrupt",
     "evalue": "",
     "output_type": "error",
     "traceback": [
      "\u001b[0;31m---------------------------------------------------------------------------\u001b[0m",
      "\u001b[0;31mKeyboardInterrupt\u001b[0m                         Traceback (most recent call last)",
      "\u001b[1;32m/home/nora/Code/mdl/experiments/mnist.ipynb Cell 5\u001b[0m line \u001b[0;36m2\n\u001b[1;32m      <a href='vscode-notebook-cell:/home/nora/Code/mdl/experiments/mnist.ipynb#W2sZmlsZQ%3D%3D?line=6'>7</a>\u001b[0m augmentor \u001b[39m=\u001b[39m tv\u001b[39m.\u001b[39mtransforms\u001b[39m.\u001b[39mCompose(\n\u001b[1;32m      <a href='vscode-notebook-cell:/home/nora/Code/mdl/experiments/mnist.ipynb#W2sZmlsZQ%3D%3D?line=7'>8</a>\u001b[0m     [\n\u001b[1;32m      <a href='vscode-notebook-cell:/home/nora/Code/mdl/experiments/mnist.ipynb#W2sZmlsZQ%3D%3D?line=8'>9</a>\u001b[0m         tv\u001b[39m.\u001b[39mtransforms\u001b[39m.\u001b[39mRandomHorizontalFlip(),\n\u001b[1;32m     <a href='vscode-notebook-cell:/home/nora/Code/mdl/experiments/mnist.ipynb#W2sZmlsZQ%3D%3D?line=9'>10</a>\u001b[0m         tv\u001b[39m.\u001b[39mtransforms\u001b[39m.\u001b[39mRandomCrop(image_size, padding\u001b[39m=\u001b[39mpadding),\n\u001b[1;32m     <a href='vscode-notebook-cell:/home/nora/Code/mdl/experiments/mnist.ipynb#W2sZmlsZQ%3D%3D?line=10'>11</a>\u001b[0m     ]\n\u001b[1;32m     <a href='vscode-notebook-cell:/home/nora/Code/mdl/experiments/mnist.ipynb#W2sZmlsZQ%3D%3D?line=11'>12</a>\u001b[0m )\n\u001b[1;32m     <a href='vscode-notebook-cell:/home/nora/Code/mdl/experiments/mnist.ipynb#W2sZmlsZQ%3D%3D?line=13'>14</a>\u001b[0m sweep \u001b[39m=\u001b[39m Sweep(\n\u001b[1;32m     <a href='vscode-notebook-cell:/home/nora/Code/mdl/experiments/mnist.ipynb#W2sZmlsZQ%3D%3D?line=14'>15</a>\u001b[0m     X_vec\u001b[39m.\u001b[39mshape[\u001b[39m1\u001b[39m], k, device\u001b[39m=\u001b[39mX\u001b[39m.\u001b[39mdevice, dtype\u001b[39m=\u001b[39mtorch\u001b[39m.\u001b[39mbfloat16,\n\u001b[1;32m     <a href='vscode-notebook-cell:/home/nora/Code/mdl/experiments/mnist.ipynb#W2sZmlsZQ%3D%3D?line=15'>16</a>\u001b[0m     num_chunks\u001b[39m=\u001b[39m\u001b[39m10\u001b[39m,\n\u001b[1;32m     <a href='vscode-notebook-cell:/home/nora/Code/mdl/experiments/mnist.ipynb#W2sZmlsZQ%3D%3D?line=16'>17</a>\u001b[0m     \u001b[39m# probe_kwargs=dict(hidden_size=768, num_layers=8),\u001b[39;00m\n\u001b[1;32m     <a href='vscode-notebook-cell:/home/nora/Code/mdl/experiments/mnist.ipynb#W2sZmlsZQ%3D%3D?line=17'>18</a>\u001b[0m     probe_cls\u001b[39m=\u001b[39mVitProbe,\n\u001b[1;32m     <a href='vscode-notebook-cell:/home/nora/Code/mdl/experiments/mnist.ipynb#W2sZmlsZQ%3D%3D?line=18'>19</a>\u001b[0m )\n\u001b[0;32m---> <a href='vscode-notebook-cell:/home/nora/Code/mdl/experiments/mnist.ipynb#W2sZmlsZQ%3D%3D?line=19'>20</a>\u001b[0m results \u001b[39m=\u001b[39m [\n\u001b[1;32m     <a href='vscode-notebook-cell:/home/nora/Code/mdl/experiments/mnist.ipynb#W2sZmlsZQ%3D%3D?line=20'>21</a>\u001b[0m     sweep\u001b[39m.\u001b[39mrun(X_train\u001b[39m.\u001b[39mbfloat16(), Y_train, seed\u001b[39m=\u001b[39mi, augment\u001b[39m=\u001b[39maugmentor)\n\u001b[1;32m     <a href='vscode-notebook-cell:/home/nora/Code/mdl/experiments/mnist.ipynb#W2sZmlsZQ%3D%3D?line=21'>22</a>\u001b[0m     \u001b[39mfor\u001b[39;00m i \u001b[39min\u001b[39;00m \u001b[39mrange\u001b[39m(\u001b[39m5\u001b[39m)\n\u001b[1;32m     <a href='vscode-notebook-cell:/home/nora/Code/mdl/experiments/mnist.ipynb#W2sZmlsZQ%3D%3D?line=22'>23</a>\u001b[0m ]\n\u001b[1;32m     <a href='vscode-notebook-cell:/home/nora/Code/mdl/experiments/mnist.ipynb#W2sZmlsZQ%3D%3D?line=23'>24</a>\u001b[0m results_ \u001b[39m=\u001b[39m [\n\u001b[1;32m     <a href='vscode-notebook-cell:/home/nora/Code/mdl/experiments/mnist.ipynb#W2sZmlsZQ%3D%3D?line=24'>25</a>\u001b[0m     sweep\u001b[39m.\u001b[39mrun(\n\u001b[1;32m     <a href='vscode-notebook-cell:/home/nora/Code/mdl/experiments/mnist.ipynb#W2sZmlsZQ%3D%3D?line=25'>26</a>\u001b[0m         X_train\u001b[39m.\u001b[39mbfloat16(), Y_train, seed\u001b[39m=\u001b[39mi,\n\u001b[0;32m   (...)\u001b[0m\n\u001b[1;32m     <a href='vscode-notebook-cell:/home/nora/Code/mdl/experiments/mnist.ipynb#W2sZmlsZQ%3D%3D?line=29'>30</a>\u001b[0m     \u001b[39mfor\u001b[39;00m i \u001b[39min\u001b[39;00m \u001b[39mrange\u001b[39m(\u001b[39m5\u001b[39m)\n\u001b[1;32m     <a href='vscode-notebook-cell:/home/nora/Code/mdl/experiments/mnist.ipynb#W2sZmlsZQ%3D%3D?line=30'>31</a>\u001b[0m ]\n",
      "\u001b[1;32m/home/nora/Code/mdl/experiments/mnist.ipynb Cell 5\u001b[0m line \u001b[0;36m2\n\u001b[1;32m      <a href='vscode-notebook-cell:/home/nora/Code/mdl/experiments/mnist.ipynb#W2sZmlsZQ%3D%3D?line=6'>7</a>\u001b[0m augmentor \u001b[39m=\u001b[39m tv\u001b[39m.\u001b[39mtransforms\u001b[39m.\u001b[39mCompose(\n\u001b[1;32m      <a href='vscode-notebook-cell:/home/nora/Code/mdl/experiments/mnist.ipynb#W2sZmlsZQ%3D%3D?line=7'>8</a>\u001b[0m     [\n\u001b[1;32m      <a href='vscode-notebook-cell:/home/nora/Code/mdl/experiments/mnist.ipynb#W2sZmlsZQ%3D%3D?line=8'>9</a>\u001b[0m         tv\u001b[39m.\u001b[39mtransforms\u001b[39m.\u001b[39mRandomHorizontalFlip(),\n\u001b[1;32m     <a href='vscode-notebook-cell:/home/nora/Code/mdl/experiments/mnist.ipynb#W2sZmlsZQ%3D%3D?line=9'>10</a>\u001b[0m         tv\u001b[39m.\u001b[39mtransforms\u001b[39m.\u001b[39mRandomCrop(image_size, padding\u001b[39m=\u001b[39mpadding),\n\u001b[1;32m     <a href='vscode-notebook-cell:/home/nora/Code/mdl/experiments/mnist.ipynb#W2sZmlsZQ%3D%3D?line=10'>11</a>\u001b[0m     ]\n\u001b[1;32m     <a href='vscode-notebook-cell:/home/nora/Code/mdl/experiments/mnist.ipynb#W2sZmlsZQ%3D%3D?line=11'>12</a>\u001b[0m )\n\u001b[1;32m     <a href='vscode-notebook-cell:/home/nora/Code/mdl/experiments/mnist.ipynb#W2sZmlsZQ%3D%3D?line=13'>14</a>\u001b[0m sweep \u001b[39m=\u001b[39m Sweep(\n\u001b[1;32m     <a href='vscode-notebook-cell:/home/nora/Code/mdl/experiments/mnist.ipynb#W2sZmlsZQ%3D%3D?line=14'>15</a>\u001b[0m     X_vec\u001b[39m.\u001b[39mshape[\u001b[39m1\u001b[39m], k, device\u001b[39m=\u001b[39mX\u001b[39m.\u001b[39mdevice, dtype\u001b[39m=\u001b[39mtorch\u001b[39m.\u001b[39mbfloat16,\n\u001b[1;32m     <a href='vscode-notebook-cell:/home/nora/Code/mdl/experiments/mnist.ipynb#W2sZmlsZQ%3D%3D?line=15'>16</a>\u001b[0m     num_chunks\u001b[39m=\u001b[39m\u001b[39m10\u001b[39m,\n\u001b[1;32m     <a href='vscode-notebook-cell:/home/nora/Code/mdl/experiments/mnist.ipynb#W2sZmlsZQ%3D%3D?line=16'>17</a>\u001b[0m     \u001b[39m# probe_kwargs=dict(hidden_size=768, num_layers=8),\u001b[39;00m\n\u001b[1;32m     <a href='vscode-notebook-cell:/home/nora/Code/mdl/experiments/mnist.ipynb#W2sZmlsZQ%3D%3D?line=17'>18</a>\u001b[0m     probe_cls\u001b[39m=\u001b[39mVitProbe,\n\u001b[1;32m     <a href='vscode-notebook-cell:/home/nora/Code/mdl/experiments/mnist.ipynb#W2sZmlsZQ%3D%3D?line=18'>19</a>\u001b[0m )\n\u001b[1;32m     <a href='vscode-notebook-cell:/home/nora/Code/mdl/experiments/mnist.ipynb#W2sZmlsZQ%3D%3D?line=19'>20</a>\u001b[0m results \u001b[39m=\u001b[39m [\n\u001b[0;32m---> <a href='vscode-notebook-cell:/home/nora/Code/mdl/experiments/mnist.ipynb#W2sZmlsZQ%3D%3D?line=20'>21</a>\u001b[0m     sweep\u001b[39m.\u001b[39mrun(X_train\u001b[39m.\u001b[39mbfloat16(), Y_train, seed\u001b[39m=\u001b[39mi, augment\u001b[39m=\u001b[39maugmentor)\n\u001b[1;32m     <a href='vscode-notebook-cell:/home/nora/Code/mdl/experiments/mnist.ipynb#W2sZmlsZQ%3D%3D?line=21'>22</a>\u001b[0m     \u001b[39mfor\u001b[39;00m i \u001b[39min\u001b[39;00m \u001b[39mrange\u001b[39m(\u001b[39m5\u001b[39m)\n\u001b[1;32m     <a href='vscode-notebook-cell:/home/nora/Code/mdl/experiments/mnist.ipynb#W2sZmlsZQ%3D%3D?line=22'>23</a>\u001b[0m ]\n\u001b[1;32m     <a href='vscode-notebook-cell:/home/nora/Code/mdl/experiments/mnist.ipynb#W2sZmlsZQ%3D%3D?line=23'>24</a>\u001b[0m results_ \u001b[39m=\u001b[39m [\n\u001b[1;32m     <a href='vscode-notebook-cell:/home/nora/Code/mdl/experiments/mnist.ipynb#W2sZmlsZQ%3D%3D?line=24'>25</a>\u001b[0m     sweep\u001b[39m.\u001b[39mrun(\n\u001b[1;32m     <a href='vscode-notebook-cell:/home/nora/Code/mdl/experiments/mnist.ipynb#W2sZmlsZQ%3D%3D?line=25'>26</a>\u001b[0m         X_train\u001b[39m.\u001b[39mbfloat16(), Y_train, seed\u001b[39m=\u001b[39mi,\n\u001b[0;32m   (...)\u001b[0m\n\u001b[1;32m     <a href='vscode-notebook-cell:/home/nora/Code/mdl/experiments/mnist.ipynb#W2sZmlsZQ%3D%3D?line=29'>30</a>\u001b[0m     \u001b[39mfor\u001b[39;00m i \u001b[39min\u001b[39;00m \u001b[39mrange\u001b[39m(\u001b[39m5\u001b[39m)\n\u001b[1;32m     <a href='vscode-notebook-cell:/home/nora/Code/mdl/experiments/mnist.ipynb#W2sZmlsZQ%3D%3D?line=30'>31</a>\u001b[0m ]\n",
      "File \u001b[0;32m~/Code/mdl/mdl/sweep.py:122\u001b[0m, in \u001b[0;36mSweep.run\u001b[0;34m(self, x, y, seed, transform, **fit_kwargs)\u001b[0m\n\u001b[1;32m    113\u001b[0m train_y, test_y \u001b[39m=\u001b[39m nonval_y\u001b[39m.\u001b[39msplit([train_size, test_size])\n\u001b[1;32m    115\u001b[0m probe \u001b[39m=\u001b[39m \u001b[39mself\u001b[39m\u001b[39m.\u001b[39mprobe_cls(\n\u001b[1;32m    116\u001b[0m     num_features\u001b[39m=\u001b[39m\u001b[39mself\u001b[39m\u001b[39m.\u001b[39mnum_features,\n\u001b[1;32m    117\u001b[0m     num_classes\u001b[39m=\u001b[39m\u001b[39mself\u001b[39m\u001b[39m.\u001b[39mnum_classes,\n\u001b[0;32m   (...)\u001b[0m\n\u001b[1;32m    120\u001b[0m     \u001b[39m*\u001b[39m\u001b[39m*\u001b[39m\u001b[39mself\u001b[39m\u001b[39m.\u001b[39mprobe_kwargs,\n\u001b[1;32m    121\u001b[0m )\n\u001b[0;32m--> 122\u001b[0m probe\u001b[39m.\u001b[39mfit(\n\u001b[1;32m    123\u001b[0m     train_x[:n],\n\u001b[1;32m    124\u001b[0m     train_y[:n],\n\u001b[1;32m    125\u001b[0m     x_val\u001b[39m=\u001b[39mval_x,\n\u001b[1;32m    126\u001b[0m     y_val\u001b[39m=\u001b[39mval_y,\n\u001b[1;32m    127\u001b[0m     verbose\u001b[39m=\u001b[39m\u001b[39mFalse\u001b[39;00m,\n\u001b[1;32m    128\u001b[0m     transform\u001b[39m=\u001b[39mtransform,\n\u001b[1;32m    129\u001b[0m     \u001b[39m*\u001b[39m\u001b[39m*\u001b[39mfit_kwargs,\n\u001b[1;32m    130\u001b[0m )\n\u001b[1;32m    132\u001b[0m \u001b[39m# Compute test loss and add to scaling curve\u001b[39;00m\n\u001b[1;32m    133\u001b[0m test_loss \u001b[39m=\u001b[39m probe\u001b[39m.\u001b[39mevaluate(\n\u001b[1;32m    134\u001b[0m     transform(test_x, test_y), test_y, \u001b[39mself\u001b[39m\u001b[39m.\u001b[39mbatch_size\n\u001b[1;32m    135\u001b[0m )\n",
      "File \u001b[0;32m~/miniconda3/lib/python3.11/site-packages/torch/utils/_contextlib.py:115\u001b[0m, in \u001b[0;36mcontext_decorator.<locals>.decorate_context\u001b[0;34m(*args, **kwargs)\u001b[0m\n\u001b[1;32m    112\u001b[0m \u001b[39m@functools\u001b[39m\u001b[39m.\u001b[39mwraps(func)\n\u001b[1;32m    113\u001b[0m \u001b[39mdef\u001b[39;00m \u001b[39mdecorate_context\u001b[39m(\u001b[39m*\u001b[39margs, \u001b[39m*\u001b[39m\u001b[39m*\u001b[39mkwargs):\n\u001b[1;32m    114\u001b[0m     \u001b[39mwith\u001b[39;00m ctx_factory():\n\u001b[0;32m--> 115\u001b[0m         \u001b[39mreturn\u001b[39;00m func(\u001b[39m*\u001b[39margs, \u001b[39m*\u001b[39m\u001b[39m*\u001b[39mkwargs)\n",
      "File \u001b[0;32m~/Code/mdl/mdl/probe.py:136\u001b[0m, in \u001b[0;36mProbe.fit\u001b[0;34m(self, x, y, augment, batch_size, early_stop_epochs, max_epochs, return_validation_losses, seed, transform, verbose, x_val, y_val)\u001b[0m\n\u001b[1;32m    134\u001b[0m x_batch \u001b[39m=\u001b[39m transform(augment(x_batch), y_batch)\n\u001b[1;32m    135\u001b[0m loss \u001b[39m=\u001b[39m \u001b[39mself\u001b[39m\u001b[39m.\u001b[39mloss(x_batch, y_batch)\n\u001b[0;32m--> 136\u001b[0m loss\u001b[39m.\u001b[39mbackward()\n\u001b[1;32m    138\u001b[0m \u001b[39m# Clip gradients for stability\u001b[39;00m\n\u001b[1;32m    139\u001b[0m torch\u001b[39m.\u001b[39mnn\u001b[39m.\u001b[39mutils\u001b[39m.\u001b[39mclip_grad_norm_(\u001b[39mself\u001b[39m\u001b[39m.\u001b[39mparameters(), \u001b[39m1.0\u001b[39m)\n",
      "File \u001b[0;32m~/miniconda3/lib/python3.11/site-packages/torch/_tensor.py:487\u001b[0m, in \u001b[0;36mTensor.backward\u001b[0;34m(self, gradient, retain_graph, create_graph, inputs)\u001b[0m\n\u001b[1;32m    477\u001b[0m \u001b[39mif\u001b[39;00m has_torch_function_unary(\u001b[39mself\u001b[39m):\n\u001b[1;32m    478\u001b[0m     \u001b[39mreturn\u001b[39;00m handle_torch_function(\n\u001b[1;32m    479\u001b[0m         Tensor\u001b[39m.\u001b[39mbackward,\n\u001b[1;32m    480\u001b[0m         (\u001b[39mself\u001b[39m,),\n\u001b[0;32m   (...)\u001b[0m\n\u001b[1;32m    485\u001b[0m         inputs\u001b[39m=\u001b[39minputs,\n\u001b[1;32m    486\u001b[0m     )\n\u001b[0;32m--> 487\u001b[0m torch\u001b[39m.\u001b[39mautograd\u001b[39m.\u001b[39mbackward(\n\u001b[1;32m    488\u001b[0m     \u001b[39mself\u001b[39m, gradient, retain_graph, create_graph, inputs\u001b[39m=\u001b[39minputs\n\u001b[1;32m    489\u001b[0m )\n",
      "File \u001b[0;32m~/miniconda3/lib/python3.11/site-packages/torch/autograd/__init__.py:200\u001b[0m, in \u001b[0;36mbackward\u001b[0;34m(tensors, grad_tensors, retain_graph, create_graph, grad_variables, inputs)\u001b[0m\n\u001b[1;32m    195\u001b[0m     retain_graph \u001b[39m=\u001b[39m create_graph\n\u001b[1;32m    197\u001b[0m \u001b[39m# The reason we repeat same the comment below is that\u001b[39;00m\n\u001b[1;32m    198\u001b[0m \u001b[39m# some Python versions print out the first line of a multi-line function\u001b[39;00m\n\u001b[1;32m    199\u001b[0m \u001b[39m# calls in the traceback and some print out the last line\u001b[39;00m\n\u001b[0;32m--> 200\u001b[0m Variable\u001b[39m.\u001b[39m_execution_engine\u001b[39m.\u001b[39mrun_backward(  \u001b[39m# Calls into the C++ engine to run the backward pass\u001b[39;00m\n\u001b[1;32m    201\u001b[0m     tensors, grad_tensors_, retain_graph, create_graph, inputs,\n\u001b[1;32m    202\u001b[0m     allow_unreachable\u001b[39m=\u001b[39m\u001b[39mTrue\u001b[39;00m, accumulate_grad\u001b[39m=\u001b[39m\u001b[39mTrue\u001b[39;00m)\n",
      "\u001b[0;31mKeyboardInterrupt\u001b[0m: "
     ]
    }
   ],
   "source": [
    "from mdl import Sweep, VisionProbe\n",
    "\n",
    "\n",
    "sweep = Sweep(\n",
    "    X_vec.shape[1], k, device=X.device, dtype=torch.bfloat16,\n",
    "    num_chunks=10,\n",
    "    # probe_kwargs=dict(hidden_size=768, num_layers=8),\n",
    "    probe_cls=VisionProbe,\n",
    ")\n",
    "results = [\n",
    "    sweep.run(X_train.bfloat16(), Y_train, seed=i, augment=augmentor, reduce_lr_on_plateau=False)\n",
    "    for i in range(5)\n",
    "]\n",
    "results_ = [\n",
    "    sweep.run(\n",
    "        X_train.bfloat16(), Y_train, seed=i,\n",
    "        transform=lambda x, y: qleace.eraser(x.flatten(1), y).reshape_as(x),\n",
    "        augment=augmentor,\n",
    "    )\n",
    "    for i in range(5)\n",
    "]"
   ]
  },
  {
   "cell_type": "code",
   "execution_count": 4,
   "metadata": {},
   "outputs": [
    {
     "data": {
      "application/vnd.jupyter.widget-view+json": {
       "model_id": "c30ce3ccbafc42aa9a0247c741a011cc",
       "version_major": 2,
       "version_minor": 0
      },
      "text/plain": [
       "  0%|          | 0/9 [00:00<?, ?scales/s]"
      ]
     },
     "metadata": {},
     "output_type": "display_data"
    },
    {
     "data": {
      "application/vnd.jupyter.widget-view+json": {
       "model_id": "057c204ad4d8412da8dfd52653d25de7",
       "version_major": 2,
       "version_minor": 0
      },
      "text/plain": [
       "  0%|          | 0/9 [00:00<?, ?scales/s]"
      ]
     },
     "metadata": {},
     "output_type": "display_data"
    },
    {
     "data": {
      "application/vnd.jupyter.widget-view+json": {
       "model_id": "b7cfe45923f44164b730e3703af1893f",
       "version_major": 2,
       "version_minor": 0
      },
      "text/plain": [
       "  0%|          | 0/9 [00:00<?, ?scales/s]"
      ]
     },
     "metadata": {},
     "output_type": "display_data"
    },
    {
     "data": {
      "application/vnd.jupyter.widget-view+json": {
       "model_id": "c20d0e572c3a43a592f9dd019247ebad",
       "version_major": 2,
       "version_minor": 0
      },
      "text/plain": [
       "  0%|          | 0/9 [00:00<?, ?scales/s]"
      ]
     },
     "metadata": {},
     "output_type": "display_data"
    },
    {
     "data": {
      "application/vnd.jupyter.widget-view+json": {
       "model_id": "395c7f214349459aa64212b75bf82a6f",
       "version_major": 2,
       "version_minor": 0
      },
      "text/plain": [
       "  0%|          | 0/9 [00:00<?, ?scales/s]"
      ]
     },
     "metadata": {},
     "output_type": "display_data"
    },
    {
     "data": {
      "application/vnd.jupyter.widget-view+json": {
       "model_id": "06b62319901446a29d74bf9bdab1c312",
       "version_major": 2,
       "version_minor": 0
      },
      "text/plain": [
       "  0%|          | 0/9 [00:00<?, ?scales/s]"
      ]
     },
     "metadata": {},
     "output_type": "display_data"
    },
    {
     "data": {
      "application/vnd.jupyter.widget-view+json": {
       "model_id": "3f4b9a9160aa432886ad157db092efe1",
       "version_major": 2,
       "version_minor": 0
      },
      "text/plain": [
       "  0%|          | 0/9 [00:00<?, ?scales/s]"
      ]
     },
     "metadata": {},
     "output_type": "display_data"
    },
    {
     "data": {
      "application/vnd.jupyter.widget-view+json": {
       "model_id": "595b6567dfff4e4faefafaa587dedf1c",
       "version_major": 2,
       "version_minor": 0
      },
      "text/plain": [
       "  0%|          | 0/9 [00:00<?, ?scales/s]"
      ]
     },
     "metadata": {},
     "output_type": "display_data"
    },
    {
     "data": {
      "application/vnd.jupyter.widget-view+json": {
       "model_id": "3834e5b86fd143659db75069f18e25a9",
       "version_major": 2,
       "version_minor": 0
      },
      "text/plain": [
       "  0%|          | 0/9 [00:00<?, ?scales/s]"
      ]
     },
     "metadata": {},
     "output_type": "display_data"
    },
    {
     "data": {
      "application/vnd.jupyter.widget-view+json": {
       "model_id": "32f523c6fa4b4666ad700f47ad9b723b",
       "version_major": 2,
       "version_minor": 0
      },
      "text/plain": [
       "  0%|          | 0/9 [00:00<?, ?scales/s]"
      ]
     },
     "metadata": {},
     "output_type": "display_data"
    }
   ],
   "source": [
    "results_linear_ = [\n",
    "    sweep.run(\n",
    "        X_train.bfloat16(), Y_train, seed=i,\n",
    "        transform=lambda x, y: oleace.eraser(x.flatten(1), y),\n",
    "        augment=augmentor,\n",
    "    )\n",
    "    for i in range(5)\n",
    "]"
   ]
  },
  {
   "cell_type": "code",
   "execution_count": 5,
   "metadata": {},
   "outputs": [],
   "source": [
    "import pickle\n",
    "\n",
    "with open(\"/home/nora/Data/cifar-results/mlp16.pkl\", \"wb\") as f:\n",
    "    pickle.dump({\n",
    "        'results': results,\n",
    "        'results_': results_,\n",
    "        'results_linear_': results_linear_,\n",
    "    }, f)"
   ]
  },
  {
   "cell_type": "code",
   "execution_count": 6,
   "metadata": {},
   "outputs": [],
   "source": [
    "import numpy as np\n",
    "\n",
    "curve = np.median([res.ce_curve for res in results], axis=0)\n",
    "curve_ = np.median([res.ce_curve for res in results_], axis=0)\n",
    "curve_linear_ = np.median([res.ce_curve for res in results_linear_], axis=0)"
   ]
  },
  {
   "cell_type": "code",
   "execution_count": 17,
   "metadata": {},
   "outputs": [
    {
     "data": {
      "text/plain": [
       "10081034"
      ]
     },
     "execution_count": 17,
     "metadata": {},
     "output_type": "execute_result"
    }
   ],
   "source": [
    "sum(p.numel() for p in mixer.parameters())"
   ]
  },
  {
   "cell_type": "code",
   "execution_count": 8,
   "metadata": {},
   "outputs": [
    {
     "data": {
      "image/png": "[encoded data removed]",
      "text/plain": [
       "<Figure size 640x480 with 1 Axes>"
      ]
     },
     "metadata": {},
     "output_type": "display_data"
    }
   ],
   "source": [
    "import matplotlib.pyplot as plt\n",
    "\n",
    "for i in range(5):\n",
    "    plt.plot(results[i].sample_sizes[:-1], results[i].ce_curve, alpha=0.15, c=\"black\")\n",
    "    plt.plot(results[i].sample_sizes[:-1], results_[i].ce_curve, alpha=0.15, c=\"black\")\n",
    "    plt.plot(results[i].sample_sizes[:-1], results_linear_[i].ce_curve, alpha=0.15, c=\"black\")\n",
    "\n",
    "plt.plot(results[0].sample_sizes[:-1], curve, label=\"Original\", marker=\"o\")\n",
    "plt.plot(results[0].sample_sizes[:-1], curve_, label=\"Q-LEACE\", marker=\"o\")\n",
    "plt.plot(results[0].sample_sizes[:-1], curve_linear_, label=\"LEACE\", marker=\"o\")\n",
    "\n",
    "plt.hlines(np.log2(10), 0, 2 ** 16, label=\"Chance\", linestyle=\"--\", color=\"black\")\n",
    "plt.legend()\n",
    "plt.xscale(\"log\", base=2)\n",
    "plt.xlabel(\"# training samples\")\n",
    "plt.ylabel(\"Cross-entropy (bits)\")\n",
    "plt.title(\"CIFAR-10 (16-Layer MLP)\")\n",
    "plt.yscale(\"log\", base=2)"
   ]
  },
  {
   "cell_type": "code",
   "execution_count": 11,
   "metadata": {},
   "outputs": [
    {
     "name": "stderr",
     "output_type": "stream",
     "text": [
      "/home/nora/miniconda3/lib/python3.11/site-packages/torchvision/models/_utils.py:208: UserWarning: The parameter 'pretrained' is deprecated since 0.13 and may be removed in the future, please use 'weights' instead.\n",
      "  warnings.warn(\n",
      "/home/nora/miniconda3/lib/python3.11/site-packages/torchvision/models/_utils.py:223: UserWarning: Arguments other than a weight enum or `None` for 'weights' are deprecated since 0.13 and may be removed in the future. The current behavior is equivalent to passing `weights=ResNet18_Weights.IMAGENET1K_V1`. You can also use `weights=ResNet18_Weights.DEFAULT` to get the most up-to-date weights.\n",
      "  warnings.warn(msg)\n"
     ]
    }
   ],
   "source": [
    "resnet = tv.models.resnet18(pretrained=True)"
   ]
  },
  {
   "cell_type": "code",
   "execution_count": 12,
   "metadata": {},
   "outputs": [
    {
     "data": {
      "text/plain": [
       "BasicBlock(\n",
       "  (conv1): Conv2d(64, 64, kernel_size=(3, 3), stride=(1, 1), padding=(1, 1), bias=False)\n",
       "  (bn1): BatchNorm2d(64, eps=1e-05, momentum=0.1, affine=True, track_running_stats=True)\n",
       "  (relu): ReLU(inplace=True)\n",
       "  (conv2): Conv2d(64, 64, kernel_size=(3, 3), stride=(1, 1), padding=(1, 1), bias=False)\n",
       "  (bn2): BatchNorm2d(64, eps=1e-05, momentum=0.1, affine=True, track_running_stats=True)\n",
       ")"
      ]
     },
     "execution_count": 12,
     "metadata": {},
     "output_type": "execute_result"
    }
   ],
   "source": [
    "resnet.layer1[0]"
   ]
  },
  {
   "cell_type": "code",
   "execution_count": null,
   "metadata": {},
   "outputs": [],
   "source": [
    "from torchvision.models.resnet import BasicBlock"
   ]
  },
  {
   "cell_type": "code",
   "execution_count": null,
   "metadata": {},
   "outputs": [],
   "source": [
    "from torch import nn\n",
    "\n",
    "class MlpBlock(nn.Module):\n",
    "    def __init__(\n",
    "        self, in_features: int, out_features: int, device = None, dtype = None\n",
    "    ):\n",
    "        super().__init__()\n",
    "\n",
    "        self.linear1 = nn.Linear(\n",
    "            in_features, out_features, bias=False, device=device, dtype=dtype\n",
    "        )\n",
    "        self.linear2 = nn.Linear(\n",
    "            out_features, out_features, bias=False, device=device, dtype=dtype\n",
    "        )\n",
    "        self.bn1 = nn.BatchNorm1d(\n",
    "            in_features, device=device, dtype=dtype\n",
    "        )\n",
    "        self.bn2 = nn.BatchNorm1d(\n",
    "            out_features, device=device, dtype=dtype\n",
    "        )\n",
    "        self.downsample = nn.Linear(\n",
    "            in_features, out_features, bias=False, device=device, dtype=dtype\n",
    "        ) if in_features != out_features else None\n",
    "\n",
    "    def forward(self, x):\n",
    "        identity = x\n",
    "    \n",
    "        out = self.linear1(x)\n",
    "        out = self.bn1(out)\n",
    "        out = nn.functional.relu(out)\n",
    "\n",
    "        out = self.linear2(out)\n",
    "        out = self.bn2(out)\n",
    "\n",
    "        if self.downsample is not None:\n",
    "            identity = self.downsample(identity)\n",
    "\n",
    "        out += identity\n",
    "        out = nn.functional.relu(out)\n",
    "\n",
    "        return out"
   ]
  }
 ],
 "metadata": {
  "kernelspec": {
   "display_name": "base",
   "language": "python",
   "name": "python3"
  },
  "language_info": {
   "codemirror_mode": {
    "name": "ipython",
    "version": 3
   },
   "file_extension": ".py",
   "mimetype": "text/x-python",
   "name": "python",
   "nbconvert_exporter": "python",
   "pygments_lexer": "ipython3",
   "version": "3.11.4"
  },
  "orig_nbformat": 4
 },
 "nbformat": 4,
 "nbformat_minor": 2
}
