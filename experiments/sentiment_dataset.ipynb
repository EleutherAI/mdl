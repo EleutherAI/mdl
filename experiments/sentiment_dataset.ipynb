{
 "cells": [
  {
   "cell_type": "code",
   "execution_count": 21,
   "metadata": {},
   "outputs": [
    {
     "name": "stderr",
     "output_type": "stream",
     "text": [
      "Special tokens have been added in the vocabulary, make sure the associated word embeddings are fine-tuned or trained.\n",
      "/mnt/ssd-1/alexm/miniconda3/envs/ql/lib/python3.11/site-packages/transformers/convert_slow_tokenizer.py:473: UserWarning: The sentencepiece tokenizer that you are converting to a fast tokenizer uses the byte fallback option which is not implemented in the fast tokenizers. In practice this means that the fast version of the tokenizer can produce unknown tokens whereas the sentencepiece version would have converted these unknown tokens into a sequence of byte tokens matching the original piece of text.\n",
      "  warnings.warn(\n",
      "Special tokens have been added in the vocabulary, make sure the associated word embeddings are fine-tuned or trained.\n"
     ]
    }
   ],
   "source": [
    "from transformers import AutoModel, AutoTokenizer, AutoConfig\n",
    "from datasets import load_dataset\n",
    "import torch\n",
    "import random\n",
    "import numpy as np\n",
    "\n",
    "seed = 4\n",
    "random.seed(seed)\n",
    "np.random.seed(seed)\n",
    "torch.manual_seed(seed)\n",
    "torch.cuda.manual_seed_all(seed)\n",
    "\n",
    "do_random = True\n",
    "model_name = \"microsoft/deberta-v3-xsmall\"\n",
    "ds_name = \"amazon_polarity\"\n",
    "device = \"cuda:1\"\n",
    "dtype = torch.float16\n",
    "tokenizer = AutoTokenizer.from_pretrained(model_name)\n",
    "if do_random:\n",
    "    config = AutoConfig.from_pretrained(model_name)\n",
    "    model = AutoModel.from_config(config).to(device).to(dtype)\n",
    "else:\n",
    "    model = AutoModel.from_pretrained(model_name).to(device).to(dtype)\n",
    "ds_dict = load_dataset(ds_name)"
   ]
  },
  {
   "cell_type": "code",
   "execution_count": 22,
   "metadata": {},
   "outputs": [
    {
     "data": {
      "text/plain": [
       "DatasetDict({\n",
       "    train: Dataset({\n",
       "        features: ['label', 'title', 'content'],\n",
       "        num_rows: 3600000\n",
       "    })\n",
       "    test: Dataset({\n",
       "        features: ['label', 'title', 'content'],\n",
       "        num_rows: 10000\n",
       "    })\n",
       "})"
      ]
     },
     "execution_count": 22,
     "metadata": {},
     "output_type": "execute_result"
    }
   ],
   "source": [
    "from datasets import DatasetDict\n",
    "# ds_dict = DatasetDict({\"train\": ds_dict[\"train\"].select(range(16)), \"test\": ds_dict[\"test\"].select(range(16))})\n",
    "ds_dict = DatasetDict({\"train\": ds_dict[\"train\"].select(range(3_600_000)), \"test\": ds_dict[\"test\"].select(range(10_000))})\n",
    "ds_dict"
   ]
  },
  {
   "cell_type": "code",
   "execution_count": 23,
   "metadata": {},
   "outputs": [
    {
     "name": "stderr",
     "output_type": "stream",
     "text": [
      "Map:   0%|          | 0/3600000 [00:00<?, ? examples/s]Asking to truncate to max_length but no maximum length is provided and the model has no predefined maximum length. Default to no truncation.\n",
      "Map: 100%|██████████| 3600000/3600000 [1:17:08<00:00, 777.85 examples/s]\n",
      "Map: 100%|██████████| 10000/10000 [00:15<00:00, 659.51 examples/s]\n"
     ]
    }
   ],
   "source": [
    "import torch\n",
    "from datasets import Features, Sequence, Value, ClassLabel\n",
    "\n",
    "model.eval()\n",
    "def get_last_hidden_state(exs: dict):\n",
    "    encodings = tokenizer(exs[\"content\"], truncation=True, padding=True, return_tensors=\"pt\").to(device)\n",
    "    with torch.no_grad():\n",
    "        outputs = model(**encodings)\n",
    "        exs[\"embedding\"] = outputs.last_hidden_state.squeeze(1)[:, 0, :].cpu().float()  # batch_size x embedding_size\n",
    "    return exs\n",
    "\n",
    "ds = ds_dict.with_format(\"torch\")\n",
    "feats = Features({\"content\": Value(\"string\"), \"label\": ClassLabel(num_classes=2, names=[\"neg\", \"pos\"]), \"embedding\": Sequence(Value(\"float32\")), \"title\": Value(\"string\")})\n",
    "ds = ds.map(get_last_hidden_state, batched=True, batch_size=128, features=feats)"
   ]
  },
  {
   "cell_type": "code",
   "execution_count": 24,
   "metadata": {},
   "outputs": [
    {
     "name": "stderr",
     "output_type": "stream",
     "text": [
      "Creating parquet from Arrow format: 100%|██████████| 240/240 [00:07<00:00, 33.79ba/s]\n",
      "Creating parquet from Arrow format: 100%|██████████| 240/240 [00:06<00:00, 37.13ba/s]/it]\n",
      "Creating parquet from Arrow format: 100%|██████████| 240/240 [00:06<00:00, 34.68ba/s]/it]\n",
      "Creating parquet from Arrow format: 100%|██████████| 240/240 [00:06<00:00, 34.49ba/s]/it]\n",
      "Creating parquet from Arrow format: 100%|██████████| 240/240 [00:06<00:00, 36.73ba/s]/it]\n",
      "Creating parquet from Arrow format: 100%|██████████| 240/240 [00:06<00:00, 38.79ba/s]/it]\n",
      "Creating parquet from Arrow format: 100%|██████████| 240/240 [00:05<00:00, 42.35ba/s]/it]\n",
      "Creating parquet from Arrow format: 100%|██████████| 240/240 [00:06<00:00, 35.32ba/s]/it]\n",
      "Creating parquet from Arrow format: 100%|██████████| 240/240 [00:07<00:00, 30.81ba/s]/it]\n",
      "Creating parquet from Arrow format: 100%|██████████| 240/240 [00:07<00:00, 30.17ba/s]/it]\n",
      "Creating parquet from Arrow format: 100%|██████████| 240/240 [00:06<00:00, 39.51ba/s]s/it]\n",
      "Creating parquet from Arrow format: 100%|██████████| 240/240 [00:06<00:00, 37.75ba/s]s/it]\n",
      "Creating parquet from Arrow format: 100%|██████████| 240/240 [00:07<00:00, 33.70ba/s]s/it]\n",
      "Creating parquet from Arrow format: 100%|██████████| 240/240 [00:05<00:00, 46.98ba/s]s/it]\n",
      "Creating parquet from Arrow format: 100%|██████████| 240/240 [00:05<00:00, 43.76ba/s]s/it]\n",
      "Pushing dataset shards to the dataset hub: 100%|██████████| 15/15 [03:43<00:00, 14.90s/it]\n",
      "Deleting unused files from dataset repository: 100%|██████████| 3/3 [00:00<00:00,  7.71it/s]\n",
      "Creating parquet from Arrow format: 100%|██████████| 10/10 [00:00<00:00, 36.37ba/s]\n",
      "Pushing dataset shards to the dataset hub: 100%|██████████| 1/1 [00:00<00:00,  1.25it/s]\n",
      "Deleting unused files from dataset repository: 100%|██████████| 1/1 [00:00<00:00, 10.12it/s]\n",
      "Downloading metadata: 100%|██████████| 751/751 [00:00<00:00, 3.91MB/s]\n"
     ]
    }
   ],
   "source": [
    "name = \"atmallen/amazon_polarity_embeddings\"\n",
    "if do_random:\n",
    "    name += f\"_random{seed}\"\n",
    "ds.push_to_hub(name)"
   ]
  },
  {
   "cell_type": "code",
   "execution_count": 25,
   "metadata": {},
   "outputs": [
    {
     "name": "stdout",
     "output_type": "stream",
     "text": [
      "tensor(0.5000)\n",
      "0.7272\n"
     ]
    },
    {
     "name": "stderr",
     "output_type": "stream",
     "text": [
      "/mnt/ssd-1/alexm/miniconda3/envs/ql/lib/python3.11/site-packages/sklearn/linear_model/_logistic.py:460: ConvergenceWarning: lbfgs failed to converge (status=1):\n",
      "STOP: TOTAL NO. of ITERATIONS REACHED LIMIT.\n",
      "\n",
      "Increase the number of iterations (max_iter) or scale the data as shown in:\n",
      "    https://scikit-learn.org/stable/modules/preprocessing.html\n",
      "Please also refer to the documentation for alternative solver options:\n",
      "    https://scikit-learn.org/stable/modules/linear_model.html#logistic-regression\n",
      "  n_iter_i = _check_optimize_result(\n"
     ]
    }
   ],
   "source": [
    "from sklearn.linear_model import LogisticRegression\n",
    "from sklearn.metrics import accuracy_score\n",
    "\n",
    "X = ds[\"train\"][\"embedding\"]\n",
    "y = ds[\"train\"][\"label\"]\n",
    "print(y.mean(dtype=torch.float32))\n",
    "clf = LogisticRegression(random_state=0).fit(X, y)\n",
    "y_pred = clf.predict(ds[\"test\"][\"embedding\"])\n",
    "print(accuracy_score(ds[\"test\"][\"label\"], y_pred))"
   ]
  },
  {
   "cell_type": "markdown",
   "metadata": {},
   "source": [
    "# results"
   ]
  },
  {
   "cell_type": "code",
   "execution_count": 8,
   "metadata": {},
   "outputs": [],
   "source": [
    "import pickle\n",
    "from mdl import MdlResult\n",
    "import numpy as np\n",
    "\n",
    "parent = \"../data/sentiment-erasure/\"\n",
    "# erasures = [\"Linear\", \"Q-LEACE\", \"None\"]\n",
    "# seeds = [0, 1, 2, 3, 4]\n",
    "erasures = [\"None\", \"LEACE\", \"Q-LEACE\", \"Linear\"]\n",
    "seeds = [0]\n",
    "results = []\n",
    "for erasure in erasures:\n",
    "    result = dict(erasure=erasure)\n",
    "    for seed in seeds:\n",
    "        name = f\"{erasure}_seed{seed}_on_amazon_polarity_embeddings.pkl\"\n",
    "        with open(parent + name, \"rb\") as f:\n",
    "            mdl_result = pickle.load(f)\n",
    "\n",
    "        result.update({\n",
    "            f\"ce_curve{seed}\": mdl_result.ce_curve,\n",
    "            f\"sample_sizes{seed}\": mdl_result.sample_sizes,\n",
    "            f\"mdl{seed}\": mdl_result.mdl,\n",
    "        })\n",
    "    median_ce_curve = np.median(np.stack([result[f\"ce_curve{seed}\"] for seed in seeds]), axis=0)\n",
    "    assert all(result[f\"sample_sizes{seed}\"] == result[f\"sample_sizes{seed}\"] for seed in seeds)\n",
    "    sample_sizes = result[f\"sample_sizes{seed}\"]\n",
    "    median_mdl = np.median(np.stack([result[f\"mdl{seed}\"] for seed in seeds]), axis=0)\n",
    "    result.update(\n",
    "        median_ce_curve=median_ce_curve,\n",
    "        sample_sizes=sample_sizes,\n",
    "        mdl=median_mdl,\n",
    "    )\n",
    "    results.append(result)"
   ]
  },
  {
   "cell_type": "code",
   "execution_count": 9,
   "metadata": {},
   "outputs": [],
   "source": [
    "import pandas as pd\n",
    "df = pd.DataFrame(results)"
   ]
  },
  {
   "cell_type": "code",
   "execution_count": 10,
   "metadata": {},
   "outputs": [
    {
     "data": {
      "text/html": [
       "<div>\n",
       "<style scoped>\n",
       "    .dataframe tbody tr th:only-of-type {\n",
       "        vertical-align: middle;\n",
       "    }\n",
       "\n",
       "    .dataframe tbody tr th {\n",
       "        vertical-align: top;\n",
       "    }\n",
       "\n",
       "    .dataframe thead th {\n",
       "        text-align: right;\n",
       "    }\n",
       "</style>\n",
       "<table border=\"1\" class=\"dataframe\">\n",
       "  <thead>\n",
       "    <tr style=\"text-align: right;\">\n",
       "      <th></th>\n",
       "      <th>erasure</th>\n",
       "      <th>ce_curve0</th>\n",
       "      <th>sample_sizes0</th>\n",
       "      <th>mdl0</th>\n",
       "      <th>median_ce_curve</th>\n",
       "      <th>sample_sizes</th>\n",
       "      <th>mdl</th>\n",
       "    </tr>\n",
       "  </thead>\n",
       "  <tbody>\n",
       "    <tr>\n",
       "      <th>0</th>\n",
       "      <td>None</td>\n",
       "      <td>[0.5572372298016042, 0.5184670482402801, 0.471...</td>\n",
       "      <td>[768, 1984, 3909, 6957, 11783, 19424, 31523, 5...</td>\n",
       "      <td>1.734498</td>\n",
       "      <td>[0.5572372298016042, 0.5184670482402801, 0.471...</td>\n",
       "      <td>[768, 1984, 3909, 6957, 11783, 19424, 31523, 5...</td>\n",
       "      <td>1.734498</td>\n",
       "    </tr>\n",
       "    <tr>\n",
       "      <th>1</th>\n",
       "      <td>LEACE</td>\n",
       "      <td>[0.9629797119754583, 0.8902902826988269, 0.815...</td>\n",
       "      <td>[768, 1984, 3909, 6957, 11783, 19424, 31523, 5...</td>\n",
       "      <td>1.592949</td>\n",
       "      <td>[0.9629797119754583, 0.8902902826988269, 0.815...</td>\n",
       "      <td>[768, 1984, 3909, 6957, 11783, 19424, 31523, 5...</td>\n",
       "      <td>1.592949</td>\n",
       "    </tr>\n",
       "    <tr>\n",
       "      <th>2</th>\n",
       "      <td>Q-LEACE</td>\n",
       "      <td>[1.0001316850755007, 1.0000007406898412, 1.000...</td>\n",
       "      <td>[768, 1984, 3909, 6957, 11783, 19424, 31523, 5...</td>\n",
       "      <td>4.151715</td>\n",
       "      <td>[1.0001316850755007, 1.0000007406898412, 1.000...</td>\n",
       "      <td>[768, 1984, 3909, 6957, 11783, 19424, 31523, 5...</td>\n",
       "      <td>4.151715</td>\n",
       "    </tr>\n",
       "    <tr>\n",
       "      <th>3</th>\n",
       "      <td>Linear</td>\n",
       "      <td>[1.0000017788955973, 1.0001298788163426, 1.000...</td>\n",
       "      <td>[768, 1984, 3909, 6957, 11783, 19424, 31523, 5...</td>\n",
       "      <td>3.593908</td>\n",
       "      <td>[1.0000017788955973, 1.0001298788163426, 1.000...</td>\n",
       "      <td>[768, 1984, 3909, 6957, 11783, 19424, 31523, 5...</td>\n",
       "      <td>3.593908</td>\n",
       "    </tr>\n",
       "  </tbody>\n",
       "</table>\n",
       "</div>"
      ],
      "text/plain": [
       "   erasure                                          ce_curve0  \\\n",
       "0     None  [0.5572372298016042, 0.5184670482402801, 0.471...   \n",
       "1    LEACE  [0.9629797119754583, 0.8902902826988269, 0.815...   \n",
       "2  Q-LEACE  [1.0001316850755007, 1.0000007406898412, 1.000...   \n",
       "3   Linear  [1.0000017788955973, 1.0001298788163426, 1.000...   \n",
       "\n",
       "                                       sample_sizes0      mdl0  \\\n",
       "0  [768, 1984, 3909, 6957, 11783, 19424, 31523, 5...  1.734498   \n",
       "1  [768, 1984, 3909, 6957, 11783, 19424, 31523, 5...  1.592949   \n",
       "2  [768, 1984, 3909, 6957, 11783, 19424, 31523, 5...  4.151715   \n",
       "3  [768, 1984, 3909, 6957, 11783, 19424, 31523, 5...  3.593908   \n",
       "\n",
       "                                     median_ce_curve  \\\n",
       "0  [0.5572372298016042, 0.5184670482402801, 0.471...   \n",
       "1  [0.9629797119754583, 0.8902902826988269, 0.815...   \n",
       "2  [1.0001316850755007, 1.0000007406898412, 1.000...   \n",
       "3  [1.0000017788955973, 1.0001298788163426, 1.000...   \n",
       "\n",
       "                                        sample_sizes       mdl  \n",
       "0  [768, 1984, 3909, 6957, 11783, 19424, 31523, 5...  1.734498  \n",
       "1  [768, 1984, 3909, 6957, 11783, 19424, 31523, 5...  1.592949  \n",
       "2  [768, 1984, 3909, 6957, 11783, 19424, 31523, 5...  4.151715  \n",
       "3  [768, 1984, 3909, 6957, 11783, 19424, 31523, 5...  3.593908  "
      ]
     },
     "execution_count": 10,
     "metadata": {},
     "output_type": "execute_result"
    }
   ],
   "source": [
    "df"
   ]
  },
  {
   "cell_type": "code",
   "execution_count": 15,
   "metadata": {},
   "outputs": [
    {
     "data": {
      "text/plain": [
       "<matplotlib.legend.Legend at 0x7f694f521990>"
      ]
     },
     "execution_count": 15,
     "metadata": {},
     "output_type": "execute_result"
    },
    {
     "data": {
      "image/png": "[encoded data removed]",
      "text/plain": [
       "<Figure size 800x600 with 1 Axes>"
      ]
     },
     "metadata": {},
     "output_type": "display_data"
    }
   ],
   "source": [
    "import matplotlib.pyplot as plt\n",
    "\n",
    "fig, ax = plt.subplots(figsize=(8, 6))\n",
    "for erasure, color in zip(erasures, [\"red\", \"blue\", \"green\", \"orange\"]):\n",
    "    sub_df = df[df.erasure == erasure]\n",
    "    x = sub_df.sample_sizes.iloc[0][:-1]\n",
    "    y = sub_df.median_ce_curve.iloc[0]\n",
    "    ax.plot(x, y, label=erasure, alpha=0.8, marker=\".\", color=color)\n",
    "    for seed in seeds:\n",
    "        x = sub_df.sample_sizes.iloc[0][:-1]\n",
    "        y = sub_df[f\"ce_curve{seed}\"].iloc[0]\n",
    "        ax.plot(x, y, alpha=0.2, color=color)\n",
    "ax.set_xlabel(\"Sample Size\")\n",
    "ax.set_ylabel(\"Cross Entropy\")\n",
    "# ax.set_ylim(0, 1.1)\n",
    "ax.loglog()\n",
    "ax.legend()"
   ]
  },
  {
   "cell_type": "code",
   "execution_count": null,
   "metadata": {},
   "outputs": [],
   "source": []
  }
 ],
 "metadata": {
  "kernelspec": {
   "display_name": "ql",
   "language": "python",
   "name": "python3"
  },
  "language_info": {
   "codemirror_mode": {
    "name": "ipython",
    "version": 3
   },
   "file_extension": ".py",
   "mimetype": "text/x-python",
   "name": "python",
   "nbconvert_exporter": "python",
   "pygments_lexer": "ipython3",
   "version": "3.11.5"
  },
  "orig_nbformat": 4
 },
 "nbformat": 4,
 "nbformat_minor": 2
}
