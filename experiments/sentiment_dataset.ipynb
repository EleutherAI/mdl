{
 "cells": [
  {
   "cell_type": "code",
   "execution_count": 6,
   "metadata": {},
   "outputs": [
    {
     "name": "stderr",
     "output_type": "stream",
     "text": [
      "Special tokens have been added in the vocabulary, make sure the associated word embeddings are fine-tuned or trained.\n",
      "/mnt/ssd-1/alexm/miniconda3/envs/ql/lib/python3.11/site-packages/transformers/convert_slow_tokenizer.py:473: UserWarning: The sentencepiece tokenizer that you are converting to a fast tokenizer uses the byte fallback option which is not implemented in the fast tokenizers. In practice this means that the fast version of the tokenizer can produce unknown tokens whereas the sentencepiece version would have converted these unknown tokens into a sequence of byte tokens matching the original piece of text.\n",
      "  warnings.warn(\n",
      "Special tokens have been added in the vocabulary, make sure the associated word embeddings are fine-tuned or trained.\n"
     ]
    }
   ],
   "source": [
    "from transformers import AutoModel, AutoTokenizer, AutoConfig\n",
    "from datasets import load_dataset\n",
    "import torch\n",
    "import random\n",
    "import numpy as np\n",
    "\n",
    "seed = 1\n",
    "random.seed(seed)\n",
    "np.random.seed(seed)\n",
    "torch.manual_seed(seed)\n",
    "torch.cuda.manual_seed_all(seed)\n",
    "\n",
    "do_random = True\n",
    "model_name = \"microsoft/deberta-v3-xsmall\"\n",
    "ds_name = \"amazon_polarity\"\n",
    "device = \"cuda:1\"\n",
    "dtype = torch.float16\n",
    "tokenizer = AutoTokenizer.from_pretrained(model_name)\n",
    "if do_random:\n",
    "    config = AutoConfig.from_pretrained(model_name)\n",
    "    model = AutoModel.from_config(config).to(device).to(dtype)\n",
    "else:\n",
    "    model = AutoModel.from_pretrained(model_name).to(device).to(dtype)\n",
    "ds_dict = load_dataset(ds_name)"
   ]
  },
  {
   "cell_type": "code",
   "execution_count": 7,
   "metadata": {},
   "outputs": [
    {
     "data": {
      "text/plain": [
       "DatasetDict({\n",
       "    train: Dataset({\n",
       "        features: ['label', 'title', 'content'],\n",
       "        num_rows: 3600000\n",
       "    })\n",
       "    test: Dataset({\n",
       "        features: ['label', 'title', 'content'],\n",
       "        num_rows: 10000\n",
       "    })\n",
       "})"
      ]
     },
     "execution_count": 7,
     "metadata": {},
     "output_type": "execute_result"
    }
   ],
   "source": [
    "from datasets import DatasetDict\n",
    "# ds_dict = DatasetDict({\"train\": ds_dict[\"train\"].select(range(16)), \"test\": ds_dict[\"test\"].select(range(16))})\n",
    "ds_dict = DatasetDict({\"train\": ds_dict[\"train\"].select(range(3_600_000)), \"test\": ds_dict[\"test\"].select(range(10_000))})\n",
    "ds_dict"
   ]
  },
  {
   "cell_type": "code",
   "execution_count": 8,
   "metadata": {},
   "outputs": [],
   "source": [
    "import torch\n",
    "from datasets import Features, Sequence, Value, ClassLabel\n",
    "\n",
    "model.eval()\n",
    "def get_last_hidden_state(exs: dict):\n",
    "    encodings = tokenizer(exs[\"content\"], truncation=True, padding=True, return_tensors=\"pt\").to(device)\n",
    "    with torch.no_grad():\n",
    "        outputs = model(**encodings)\n",
    "        exs[\"embedding\"] = outputs.last_hidden_state.squeeze(1)[:, 0, :].cpu().float()  # batch_size x embedding_size\n",
    "    return exs\n",
    "\n",
    "ds = ds_dict.with_format(\"torch\")\n",
    "feats = Features({\"content\": Value(\"string\"), \"label\": ClassLabel(num_classes=2, names=[\"neg\", \"pos\"]), \"embedding\": Sequence(Value(\"float32\")), \"title\": Value(\"string\")})\n",
    "ds = ds.map(get_last_hidden_state, batched=True, batch_size=128, features=feats)"
   ]
  },
  {
   "cell_type": "code",
   "execution_count": null,
   "metadata": {},
   "outputs": [
    {
     "name": "stderr",
     "output_type": "stream",
     "text": [
      "Creating parquet from Arrow format: 100%|██████████| 240/240 [00:03<00:00, 62.42ba/s]\n",
      "Creating parquet from Arrow format: 100%|██████████| 240/240 [00:03<00:00, 60.48ba/s]/it]\n",
      "Creating parquet from Arrow format: 100%|██████████| 240/240 [00:03<00:00, 60.49ba/s]/it]\n",
      "Creating parquet from Arrow format: 100%|██████████| 240/240 [00:03<00:00, 62.10ba/s]/it]\n",
      "Creating parquet from Arrow format: 100%|██████████| 240/240 [00:03<00:00, 61.97ba/s]/it]\n"
     ]
    },
    {
     "name": "stderr",
     "output_type": "stream",
     "text": [
      "Creating parquet from Arrow format: 100%|██████████| 240/240 [00:03<00:00, 62.27ba/s]/it]\n",
      "Creating parquet from Arrow format: 100%|██████████| 240/240 [00:03<00:00, 61.35ba/s]/it]\n",
      "Creating parquet from Arrow format: 100%|██████████| 240/240 [00:03<00:00, 62.36ba/s]/it]\n",
      "Creating parquet from Arrow format: 100%|██████████| 240/240 [00:03<00:00, 62.30ba/s]/it]\n",
      "Creating parquet from Arrow format: 100%|██████████| 240/240 [00:03<00:00, 62.66ba/s]/it]\n",
      "Creating parquet from Arrow format: 100%|██████████| 240/240 [00:03<00:00, 62.54ba/s]s/it]\n",
      "Creating parquet from Arrow format: 100%|██████████| 240/240 [00:03<00:00, 62.92ba/s]s/it]\n",
      "Creating parquet from Arrow format: 100%|██████████| 240/240 [00:04<00:00, 59.91ba/s]s/it]\n",
      "Creating parquet from Arrow format: 100%|██████████| 240/240 [00:04<00:00, 59.89ba/s]s/it]\n",
      "Creating parquet from Arrow format: 100%|██████████| 240/240 [00:03<00:00, 60.19ba/s]s/it]\n",
      "Pushing dataset shards to the dataset hub: 100%|██████████| 15/15 [02:41<00:00, 10.76s/it]\n",
      "Deleting unused files from dataset repository: 100%|██████████| 3/3 [00:00<00:00,  7.81it/s]\n",
      "Creating parquet from Arrow format: 100%|██████████| 10/10 [00:00<00:00, 62.53ba/s]\n",
      "Pushing dataset shards to the dataset hub: 100%|██████████| 1/1 [00:00<00:00,  1.10it/s]\n",
      "Deleting unused files from dataset repository: 100%|██████████| 1/1 [00:00<00:00,  6.00it/s]\n",
      "Downloading metadata: 100%|██████████| 751/751 [00:00<00:00, 5.72MB/s]\n"
     ]
    }
   ],
   "source": [
    "name = \"atmallen/amazon_polarity_embeddings\"\n",
    "if do_random:\n",
    "    name += f\"_random{seed}\"\n",
    "ds.push_to_hub(name)"
   ]
  },
  {
   "cell_type": "code",
   "execution_count": null,
   "metadata": {},
   "outputs": [
    {
     "name": "stdout",
     "output_type": "stream",
     "text": [
      "tensor(0.5000)\n",
      "0.7244\n"
     ]
    },
    {
     "name": "stderr",
     "output_type": "stream",
     "text": [
      "/mnt/ssd-1/alexm/miniconda3/envs/ql/lib/python3.11/site-packages/sklearn/linear_model/_logistic.py:460: ConvergenceWarning: lbfgs failed to converge (status=1):\n",
      "STOP: TOTAL NO. of ITERATIONS REACHED LIMIT.\n",
      "\n",
      "Increase the number of iterations (max_iter) or scale the data as shown in:\n",
      "    https://scikit-learn.org/stable/modules/preprocessing.html\n",
      "Please also refer to the documentation for alternative solver options:\n",
      "    https://scikit-learn.org/stable/modules/linear_model.html#logistic-regression\n",
      "  n_iter_i = _check_optimize_result(\n"
     ]
    }
   ],
   "source": [
    "from sklearn.linear_model import LogisticRegression\n",
    "from sklearn.metrics import accuracy_score\n",
    "\n",
    "X = ds[\"train\"][\"embedding\"]\n",
    "y = ds[\"train\"][\"label\"]\n",
    "print(y.mean(dtype=torch.float32))\n",
    "clf = LogisticRegression(random_state=0).fit(X, y)\n",
    "y_pred = clf.predict(ds[\"test\"][\"embedding\"])\n",
    "print(accuracy_score(ds[\"test\"][\"label\"], y_pred))"
   ]
  },
  {
   "cell_type": "code",
   "execution_count": null,
   "metadata": {},
   "outputs": [],
   "source": []
  },
  {
   "cell_type": "code",
   "execution_count": null,
   "metadata": {},
   "outputs": [],
   "source": []
  }
 ],
 "metadata": {
  "kernelspec": {
   "display_name": "ql",
   "language": "python",
   "name": "python3"
  },
  "language_info": {
   "codemirror_mode": {
    "name": "ipython",
    "version": 3
   },
   "file_extension": ".py",
   "mimetype": "text/x-python",
   "name": "python",
   "nbconvert_exporter": "python",
   "pygments_lexer": "ipython3",
   "version": "3.11.5"
  },
  "orig_nbformat": 4
 },
 "nbformat": 4,
 "nbformat_minor": 2
}
