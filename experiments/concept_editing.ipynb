{
 "cells": [
  {
   "cell_type": "code",
   "execution_count": null,
   "metadata": {},
   "outputs": [],
   "source": [
    "import pandas as pd\n",
    "import matplotlib.pyplot as plt\n",
    "\n",
    "df = pd.read_json(\"../data/CIFAR_editing_results.csv\")\n",
    "row = df.iloc[0]\n",
    "\n",
    "# 10 x 10 matrix of losses source -> target\n",
    "loss_mat = row[\"loss_mat\"]\n",
    "# 10 x 10 matrix of accuracies source -> target\n",
    "acc_mat = row[\"acc_mat\"]\n",
    "\n",
    "# Plot the loss matrix\n",
    "plt.imshow(loss_mat)\n",
    "plt.colorbar()\n",
    "plt.xlabel(\"Target\")\n",
    "plt.ylabel(\"Source\")\n",
    "plt.title(f\"Loss for {row['model']} with {row['editing_mode']} editing\")\n",
    "plt.show()\n",
    "\n",
    "# Plot the accuracy matrix\n",
    "plt.imshow(acc_mat)\n",
    "plt.colorbar()\n",
    "plt.xlabel(\"Target\")\n",
    "plt.ylabel(\"Source\")\n",
    "plt.title(f\"Accuracy for {row['model']} with {row['editing_mode']} editing\")\n",
    "plt.show()\n"
   ]
  }
 ],
 "metadata": {
  "kernelspec": {
   "display_name": "ql",
   "language": "python",
   "name": "python3"
  },
  "language_info": {
   "codemirror_mode": {
    "name": "ipython",
    "version": 3
   },
   "file_extension": ".py",
   "mimetype": "text/x-python",
   "name": "python",
   "nbconvert_exporter": "python",
   "pygments_lexer": "ipython3",
   "version": "3.11.5"
  },
  "orig_nbformat": 4
 },
 "nbformat": 4,
 "nbformat_minor": 2
}
