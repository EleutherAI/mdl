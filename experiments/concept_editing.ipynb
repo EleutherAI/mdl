{
 "cells": [
  {
   "cell_type": "code",
   "execution_count": null,
   "metadata": {},
   "outputs": [],
   "source": [
    "import pandas as pd\n",
    "import matplotlib.pyplot as plt\n",
    "\n",
    "df = pd.read_json(\"../data/CIFAR_editing_results.json\")\n",
    "row = df.iloc[2]\n",
    "\n",
    "# 10 x 10 matrix of losses source -> target\n",
    "loss_mat = row[\"loss_matrix_against_target\"]\n",
    "# 10 x 10 matrix of accuracies source -> target\n",
    "acc_mat = row[\"top1_matrix_against_target\"]"
   ]
  },
  {
   "cell_type": "code",
   "execution_count": null,
   "metadata": {},
   "outputs": [],
   "source": [
    "\n",
    "# Plot the loss matrix\n",
    "plt.imshow(loss_mat)\n",
    "plt.colorbar()\n",
    "plt.xlabel(\"Target\")\n",
    "plt.ylabel(\"Source\")\n",
    "plt.title(f\"Loss for {row['model']} with {row['editing_mode']} editing\")\n",
    "\n",
    "plt.show()\n",
    "\n",
    "# Plot the accuracy matrix\n",
    "plt.imshow(acc_mat)\n",
    "plt.colorbar()\n",
    "plt.xlabel(\"Target\")\n",
    "plt.ylabel(\"Source\")\n",
    "plt.title(f\"Accuracy for {row['model']} with {row['editing_mode']} editing\")\n",
    "plt.show()\n"
   ]
  },
  {
   "cell_type": "markdown",
   "metadata": {},
   "source": [
    "# Visual comparison to non-least squares quadratic concept editing"
   ]
  },
  {
   "cell_type": "code",
   "execution_count": null,
   "metadata": {},
   "outputs": [],
   "source": [
    "from torchvision.datasets import CIFAR10\n",
    "from concept_erasure import QuadraticFitter\n",
    "from concept_editing import get_editor, get_train_test_data\n",
    "import torch\n",
    "from torchvision.transforms.functional import to_tensor\n",
    "\n",
    "download_dir = \"/mnt/ssd-1/alexm/cifar10\"\n",
    "data = CIFAR10(root=download_dir, download=True)\n",
    "images, labels = zip(*data)"
   ]
  },
  {
   "cell_type": "code",
   "execution_count": null,
   "metadata": {},
   "outputs": [],
   "source": [
    "X = torch.stack(list(map(to_tensor, images))) # n x c x w x h"
   ]
  },
  {
   "cell_type": "code",
   "execution_count": null,
   "metadata": {},
   "outputs": [],
   "source": [
    "X_train, X_test, Y_train, Y_test = get_train_test_data(\n",
    "            total_size=None, test_size=1024, flatten=True\n",
    "        )\n",
    "X_train = X_train.double().cpu()\n",
    "Y_train = Y_train.cpu()\n",
    "fitter = QuadraticFitter.fit(X_train, Y_train)\n",
    "optimal_editor = fitter.editor()"
   ]
  },
  {
   "cell_type": "code",
   "execution_count": null,
   "metadata": {},
   "outputs": [],
   "source": [
    "X_bar = X_train.mean(dim=0)\n",
    "X_ctr = X_train - X_bar\n",
    "cov_xx = X_ctr.T @ X_ctr / (X_ctr.shape[0] - 1)"
   ]
  },
  {
   "cell_type": "code",
   "execution_count": null,
   "metadata": {},
   "outputs": [],
   "source": [
    "from concept_erasure.optimal_transport import psd_sqrt_rsqrt, psd_sqrt\n",
    "def quadratic_edit(im: torch.Tensor, source: int, target: int, optimal=False):\n",
    "    orig_shape = im.shape\n",
    "    im = im.cpu().double().flatten()\n",
    "    if optimal:\n",
    "        return optimal_editor(im.unsqueeze(0), torch.tensor([source]), target).reshape(orig_shape)\n",
    "    else:\n",
    "        P = fitter.sigma_xx[source]\n",
    "        Q = fitter.sigma_xx[target]\n",
    "        _, inv_sqrt_P = psd_sqrt_rsqrt(P)\n",
    "        sqrt_Q = psd_sqrt(Q)\n",
    "        im_ctr = im - fitter.mean_x[source]\n",
    "        return (sqrt_Q @ inv_sqrt_P @ im_ctr + fitter.mean_x[target]).reshape(orig_shape)\n",
    "    \n",
    "def quadratic_erase(im: torch.Tensor, source: int, optimal=False):\n",
    "    orig_shape = im.shape\n",
    "    im = im.cpu().double().flatten()\n",
    "    if optimal:\n",
    "        return fitter.eraser(im.unsqueeze(0), torch.tensor([source])).reshape(orig_shape)\n",
    "    else:\n",
    "        P = fitter.sigma_xx[source]\n",
    "        Q = cov_xx\n",
    "        _, inv_sqrt_P = psd_sqrt_rsqrt(P)\n",
    "        sqrt_Q = psd_sqrt(Q)\n",
    "        im_ctr = im - fitter.mean_x[source]\n",
    "        return (sqrt_Q @ inv_sqrt_P @ im_ctr + X_bar).reshape(orig_shape)"
   ]
  },
  {
   "cell_type": "code",
   "execution_count": null,
   "metadata": {},
   "outputs": [],
   "source": [
    "import matplotlib.pyplot as plt\n",
    "idx = 2\n",
    "im = X[idx]\n",
    "source = labels[idx]\n",
    "plt.imshow(im.numpy().transpose(1, 2, 0))\n",
    "plt.title(f\"Original\")\n",
    "plt.show()"
   ]
  },
  {
   "cell_type": "code",
   "execution_count": null,
   "metadata": {},
   "outputs": [],
   "source": [
    "target = 2\n",
    "im_edit_suboptimal = quadratic_edit(torch.tensor(im), source, target, optimal=False)\n",
    "im_edit_optimal = quadratic_edit(torch.tensor(im), source, target, optimal=True)"
   ]
  },
  {
   "cell_type": "code",
   "execution_count": null,
   "metadata": {},
   "outputs": [],
   "source": [
    "plt.imshow(im_edit_suboptimal.numpy().transpose(1, 2, 0))\n",
    "plt.title(\"Naive quadratic edited\")\n",
    "plt.show()\n",
    "\n",
    "plt.title(\"Q-LEACE edited\")\n",
    "plt.imshow(im_edit_optimal.numpy().transpose(1, 2, 0))\n",
    "plt.show()"
   ]
  },
  {
   "cell_type": "code",
   "execution_count": null,
   "metadata": {},
   "outputs": [],
   "source": [
    "diff = im_edit_suboptimal - im_edit_optimal\n",
    "plt.imshow(diff.numpy().transpose(1, 2, 0))\n",
    "plt.show()"
   ]
  },
  {
   "cell_type": "code",
   "execution_count": null,
   "metadata": {},
   "outputs": [],
   "source": [
    "diff.abs().mean() / im_edit_optimal.abs().mean()"
   ]
  },
  {
   "cell_type": "code",
   "execution_count": null,
   "metadata": {},
   "outputs": [],
   "source": [
    "im_erased_suboptimal = quadratic_erase(torch.tensor(im), source, optimal=False)\n",
    "im_erased_optimal = quadratic_erase(torch.tensor(im), source, optimal=True)"
   ]
  },
  {
   "cell_type": "code",
   "execution_count": null,
   "metadata": {},
   "outputs": [],
   "source": [
    "plt.imshow(im_erased_suboptimal.numpy().transpose(1, 2, 0))\n",
    "plt.title(\"Naive quadratic erased\")\n",
    "plt.show()\n",
    "\n",
    "plt.imshow(im_erased_optimal.numpy().transpose(1, 2, 0))\n",
    "plt.title(\"Q-LEACE erased\")\n",
    "plt.show()"
   ]
  },
  {
   "cell_type": "code",
   "execution_count": null,
   "metadata": {},
   "outputs": [],
   "source": [
    "plt.imshow(im.numpy().transpose(1, 2, 0))"
   ]
  },
  {
   "cell_type": "code",
   "execution_count": null,
   "metadata": {},
   "outputs": [],
   "source": [
    "diff_optimal = im_erased_optimal - im\n",
    "diff_suboptimal = im_erased_suboptimal - im\n",
    "print(diff_optimal.norm().mean() / im.norm().mean())\n",
    "print(diff_suboptimal.norm().mean() / im.norm().mean())"
   ]
  },
  {
   "cell_type": "code",
   "execution_count": null,
   "metadata": {},
   "outputs": [],
   "source": [
    "total_err_optimal = 0\n",
    "total_err_suboptimal = 0\n",
    "for idx in range(100):\n",
    "    im = X[idx]\n",
    "    source = labels[idx]\n",
    "\n",
    "    im_erased_suboptimal = quadratic_erase(torch.tensor(im), source, optimal=False)\n",
    "    im_erased_optimal = quadratic_erase(torch.tensor(im), source, optimal=True)\n",
    "\n",
    "    diff_optimal = im_erased_optimal - im\n",
    "    diff_suboptimal = im_erased_suboptimal - im\n",
    "    err_subopt = diff_suboptimal.abs().mean() / im.abs().mean()\n",
    "    err_opt = diff_optimal.abs().mean() / im.abs().mean()\n",
    "    total_err_optimal += err_opt\n",
    "    total_err_suboptimal += err_subopt\n",
    "\n",
    "    print(f\"Image {idx}:\")\n",
    "    print(f\"Average error for optimal: {total_err_optimal / (idx + 1)}\")\n",
    "    print(f\"Average error for suboptimal: {total_err_suboptimal / (idx + 1)}\")"
   ]
  },
  {
   "cell_type": "code",
   "execution_count": null,
   "metadata": {},
   "outputs": [],
   "source": []
  }
 ],
 "metadata": {
  "kernelspec": {
   "display_name": "ql",
   "language": "python",
   "name": "python3"
  },
  "language_info": {
   "codemirror_mode": {
    "name": "ipython",
    "version": 3
   },
   "file_extension": ".py",
   "mimetype": "text/x-python",
   "name": "python",
   "nbconvert_exporter": "python",
   "pygments_lexer": "ipython3",
   "version": "3.11.5"
  },
  "orig_nbformat": 4
 },
 "nbformat": 4,
 "nbformat_minor": 2
}
